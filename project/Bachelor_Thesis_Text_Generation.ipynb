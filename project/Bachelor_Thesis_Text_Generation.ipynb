{
 "cells": [
  {
   "cell_type": "markdown",
   "metadata": {},
   "source": [
    "![](images/ohm_logo.png)\n",
    "\n",
    "<h1><center>Bachelor Thesis</center></h1>\n",
    "\n",
    "<h1><center><big>IT-Based textgeneration using NLP methods</big><br><hr> <i>State-of-the-art and design of a prototype </i></center></h1>\n",
    "\n",
    "<center>from Tim Löhr</center>"
   ]
  },
  {
   "cell_type": "markdown",
   "metadata": {},
   "source": [
    "# 1.0 Importing the Dependcies"
   ]
  },
  {
   "cell_type": "code",
   "execution_count": 1,
   "metadata": {},
   "outputs": [
    {
     "name": "stderr",
     "output_type": "stream",
     "text": [
      "Using TensorFlow backend.\n"
     ]
    }
   ],
   "source": [
    "from attention import AttentionLayer\n",
    "\n",
    "import numpy as np  \n",
    "import pandas as pd \n",
    "import re           \n",
    "from bs4 import BeautifulSoup\n",
    "import os\n",
    "\n",
    "from nltk.corpus import stopwords   \n",
    "from nltk.tokenize import word_tokenize\n",
    "from nltk.tokenize import RegexpTokenizer\n",
    "\n",
    "from keras.preprocessing.sequence import pad_sequences\n",
    "from keras.preprocessing.text import Tokenizer\n",
    "from keras import backend as K \n",
    "\n",
    "from tensorflow.keras.layers import Input, LSTM, Embedding, Dense, Concatenate, TimeDistributed, Bidirectional\n",
    "from tensorflow.keras.models import Model\n",
    "from tensorflow.keras.callbacks import EarlyStopping\n",
    "from tensorflow.keras.models import load_model, model_from_json\n",
    "\n",
    "from sklearn.model_selection import train_test_split\n",
    "\n",
    "\n",
    "import matplotlib.pyplot as plt\n",
    "\n",
    "import warnings\n",
    "pd.set_option(\"display.max_colwidth\", 200)\n",
    "warnings.filterwarnings(\"ignore\")"
   ]
  },
  {
   "cell_type": "markdown",
   "metadata": {},
   "source": [
    "# 2.0 Loading the Data"
   ]
  },
  {
   "cell_type": "code",
   "execution_count": 2,
   "metadata": {
    "scrolled": true
   },
   "outputs": [],
   "source": [
    "#data = pd.read_csv('amazon-fine-food-reviews/Reviews.csv', nrows=10000)\n",
    "#data.head()"
   ]
  },
  {
   "cell_type": "code",
   "execution_count": 3,
   "metadata": {},
   "outputs": [],
   "source": [
    "#data.shape"
   ]
  },
  {
   "cell_type": "code",
   "execution_count": 4,
   "metadata": {},
   "outputs": [],
   "source": [
    "frames = ['Article', 'Summary']\n",
    "topics = ['business', 'entertainment', 'politics', 'sport', 'tech']\n",
    "\n",
    "summaries = {topic: [] for topic in topics}\n",
    "articles = {topic: [] for topic in topics}\n",
    "\n",
    "summary = []\n",
    "article = []\n",
    "\n",
    "for frame in frames:\n",
    "    for i, topic in enumerate(topics):\n",
    "        _, _, files = next(os.walk(\"./BBC_News/\" + frame + \"/\" + topic))\n",
    "        \n",
    "        for file in files:\n",
    "            file = open(\"./BBC_News/\" + frame + \"/\" + topic + \"/\" + file, 'rb')\n",
    "            text = file.read()\n",
    "            \n",
    "            if (frame == \"Article\"):\n",
    "                articles[topic].append(text)\n",
    "                article.append(text)\n",
    "            else:\n",
    "                summaries[topic].append(text)\n",
    "                summary.append(text)"
   ]
  },
  {
   "cell_type": "code",
   "execution_count": 5,
   "metadata": {},
   "outputs": [],
   "source": [
    "dataset = {'Text': article, 'Summary': summary}"
   ]
  },
  {
   "cell_type": "code",
   "execution_count": 6,
   "metadata": {},
   "outputs": [],
   "source": [
    "data = pd.DataFrame(dataset)"
   ]
  },
  {
   "cell_type": "code",
   "execution_count": 7,
   "metadata": {},
   "outputs": [
    {
     "data": {
      "text/html": [
       "<div>\n",
       "<style scoped>\n",
       "    .dataframe tbody tr th:only-of-type {\n",
       "        vertical-align: middle;\n",
       "    }\n",
       "\n",
       "    .dataframe tbody tr th {\n",
       "        vertical-align: top;\n",
       "    }\n",
       "\n",
       "    .dataframe thead th {\n",
       "        text-align: right;\n",
       "    }\n",
       "</style>\n",
       "<table border=\"1\" class=\"dataframe\">\n",
       "  <thead>\n",
       "    <tr style=\"text-align: right;\">\n",
       "      <th></th>\n",
       "      <th>Text</th>\n",
       "      <th>Summary</th>\n",
       "    </tr>\n",
       "  </thead>\n",
       "  <tbody>\n",
       "    <tr>\n",
       "      <th>0</th>\n",
       "      <td>b'UK economy facing \\'major risks\\'\\n\\nThe UK manufacturing sector will continue to face \"serious challenges\" over the next two years, the British Chamber of Commerce (BCC) has said.\\n\\nThe group\\...</td>\n",
       "      <td>b'\"Despite some positive news for the export sector, there are worrying signs for manufacturing,\" the BCC said.The BCC found confidence increased in the quarter across both the manufacturing and s...</td>\n",
       "    </tr>\n",
       "    <tr>\n",
       "      <th>1</th>\n",
       "      <td>b'Aids and climate top Davos agenda\\n\\nClimate change and the fight against Aids are leading the list of concerns for the first day of the World Economic Forum in the Swiss resort of Davos.\\n\\nSom...</td>\n",
       "      <td>b'At the same time, about 100,000 people are expected to converge on the Brazilian resort of Porto Alegre for the World Social Forum - the so-called \"anti-Davos\" for campaigners against globalisat...</td>\n",
       "    </tr>\n",
       "    <tr>\n",
       "      <th>2</th>\n",
       "      <td>b'Asian quake hits European shares\\n\\nShares in Europe\\'s leading reinsurers and travel firms have fallen as the scale of the damage wrought by tsunamis across south Asia has become apparent.\\n\\nM...</td>\n",
       "      <td>b\"The unfolding scale of the disaster in south Asia had little immediate impact on US shares, however.But the disaster has little impact on stock markets in the US and Asia.Shares in Munich Re and...</td>\n",
       "    </tr>\n",
       "    <tr>\n",
       "      <th>3</th>\n",
       "      <td>b'India power shares jump on debut\\n\\nShares in India\\'s largest power producer, National Thermal Power Corp (NTPC) have risen 13% on their stock market debut.\\n\\nThe government\\'s partial sell-of...</td>\n",
       "      <td>b'Shares in India\\'s largest power producer, National Thermal Power Corp (NTPC) have risen 13% on their stock market debut.\"Power needs in India are set to rise and NTPC will benefit from that.\"NT...</td>\n",
       "    </tr>\n",
       "    <tr>\n",
       "      <th>4</th>\n",
       "      <td>b\"Lacroix label bought by US firm\\n\\nLuxury goods group LVMH has sold its loss-making Christian Lacroix clothing label to a US investment group.\\n\\nThe Paris-based firm has been shedding non-core ...</td>\n",
       "      <td>b\"LVMH said the French designer's haute couture and ready-to-wear labels had been purchased by the Falic Group for an unspecified sum.Luxury goods group LVMH has sold its loss-making Christian Lac...</td>\n",
       "    </tr>\n",
       "  </tbody>\n",
       "</table>\n",
       "</div>"
      ],
      "text/plain": [
       "                                                                                                                                                                                                      Text  \\\n",
       "0  b'UK economy facing \\'major risks\\'\\n\\nThe UK manufacturing sector will continue to face \"serious challenges\" over the next two years, the British Chamber of Commerce (BCC) has said.\\n\\nThe group\\...   \n",
       "1  b'Aids and climate top Davos agenda\\n\\nClimate change and the fight against Aids are leading the list of concerns for the first day of the World Economic Forum in the Swiss resort of Davos.\\n\\nSom...   \n",
       "2  b'Asian quake hits European shares\\n\\nShares in Europe\\'s leading reinsurers and travel firms have fallen as the scale of the damage wrought by tsunamis across south Asia has become apparent.\\n\\nM...   \n",
       "3  b'India power shares jump on debut\\n\\nShares in India\\'s largest power producer, National Thermal Power Corp (NTPC) have risen 13% on their stock market debut.\\n\\nThe government\\'s partial sell-of...   \n",
       "4  b\"Lacroix label bought by US firm\\n\\nLuxury goods group LVMH has sold its loss-making Christian Lacroix clothing label to a US investment group.\\n\\nThe Paris-based firm has been shedding non-core ...   \n",
       "\n",
       "                                                                                                                                                                                                   Summary  \n",
       "0  b'\"Despite some positive news for the export sector, there are worrying signs for manufacturing,\" the BCC said.The BCC found confidence increased in the quarter across both the manufacturing and s...  \n",
       "1  b'At the same time, about 100,000 people are expected to converge on the Brazilian resort of Porto Alegre for the World Social Forum - the so-called \"anti-Davos\" for campaigners against globalisat...  \n",
       "2  b\"The unfolding scale of the disaster in south Asia had little immediate impact on US shares, however.But the disaster has little impact on stock markets in the US and Asia.Shares in Munich Re and...  \n",
       "3  b'Shares in India\\'s largest power producer, National Thermal Power Corp (NTPC) have risen 13% on their stock market debut.\"Power needs in India are set to rise and NTPC will benefit from that.\"NT...  \n",
       "4  b\"LVMH said the French designer's haute couture and ready-to-wear labels had been purchased by the Falic Group for an unspecified sum.Luxury goods group LVMH has sold its loss-making Christian Lac...  "
      ]
     },
     "execution_count": 7,
     "metadata": {},
     "output_type": "execute_result"
    }
   ],
   "source": [
    "data.head()"
   ]
  },
  {
   "cell_type": "markdown",
   "metadata": {},
   "source": [
    "# 3.0 Data Preprocessing"
   ]
  },
  {
   "cell_type": "code",
   "execution_count": 8,
   "metadata": {},
   "outputs": [],
   "source": [
    "#data = data[['Summary', 'Text']]"
   ]
  },
  {
   "cell_type": "code",
   "execution_count": 9,
   "metadata": {},
   "outputs": [],
   "source": [
    "data.drop_duplicates(subset='Text')\n",
    "data.dropna(axis=0, inplace=True)"
   ]
  },
  {
   "cell_type": "code",
   "execution_count": 10,
   "metadata": {},
   "outputs": [
    {
     "data": {
      "text/plain": [
       "(2225, 2)"
      ]
     },
     "execution_count": 10,
     "metadata": {},
     "output_type": "execute_result"
    }
   ],
   "source": [
    "data.shape"
   ]
  },
  {
   "cell_type": "markdown",
   "metadata": {},
   "source": [
    "### Contraction Mapping"
   ]
  },
  {
   "cell_type": "code",
   "execution_count": 11,
   "metadata": {},
   "outputs": [],
   "source": [
    "from contraction_mapping import contraction_mapping\n",
    "\n",
    "contraction_mapping = contraction_mapping()"
   ]
  },
  {
   "cell_type": "markdown",
   "metadata": {},
   "source": [
    "## Cleaning\n",
    "\n",
    "### Text Cleaning"
   ]
  },
  {
   "cell_type": "code",
   "execution_count": 12,
   "metadata": {},
   "outputs": [],
   "source": [
    "stop_words = stopwords.words('english')\n",
    "tokenizer = RegexpTokenizer(r'\\w+')\n",
    "\n",
    "def text_cleaner(text):\n",
    "    newString = text.lower()\n",
    "    newString = BeautifulSoup(newString, \"lxml\").text\n",
    "    newString = re.sub(r'\\([^)]*\\)', '', newString)\n",
    "    newString = re.sub('\"','', newString)\n",
    "    newString = ' '.join([contraction_mapping[t] if t in contraction_mapping else t for t in newString.split(\" \")])    \n",
    "    newString = re.sub(r\"'s\\b\",\"\",newString)\n",
    "    newString = re.sub(\"[^a-zA-Z]\", \" \", newString) \n",
    "    tokens = [w for w in newString.split() if not w in stop_words]\n",
    "    long_words=[]\n",
    "    for i in tokens:\n",
    "        if len(i)>=3:                  #removing short word\n",
    "            long_words.append(i)   \n",
    "    return (\" \".join(long_words)).strip()"
   ]
  },
  {
   "cell_type": "code",
   "execution_count": 13,
   "metadata": {},
   "outputs": [
    {
     "data": {
      "text/plain": [
       "'optimism remains housing property market remains robust despite recent slowdown according mortgage lender bradford bingley housebuilder george wimpey said buy let market bank major player would continue grow much faster wider mortgage market comments came reported rise profits wimpey reported rise profits said recent new home reservations better expected recent housing market surveys indicated property market cooled recent months several years rapid growth last week figures council mortgage lenders indicated popularity buy let mortgages key phenomenon housing boom could waning share buy let mortgage market said rates growth moderating sector continues grow rate considerably whole mortgage market overall said housing market fundamentals remain strong interest rates unemployment likely remain historically low levels real household incomes continue grow housing demand likely outstrip supply medium term despite upbeat tone shares morning trade analysts worried future earnings growth wimpey profit figures came top expectations numbers helped buoyant sales offsetting slight slowdown wimpey said housing market proved challenging last year late summer market general slowed sharply across country showed real improvement autumn added however first seven weeks year produced promising signs wimpey said visitor levels interest period encouraging reservations stronger end expectations shares wimpey morning trade'"
      ]
     },
     "execution_count": 13,
     "metadata": {},
     "output_type": "execute_result"
    }
   ],
   "source": [
    "text_cleaner(data['Text'][127])"
   ]
  },
  {
   "cell_type": "code",
   "execution_count": 14,
   "metadata": {},
   "outputs": [
    {
     "data": {
      "text/plain": [
       "b'Optimism remains over UK housing\\n\\nThe UK property market remains robust despite the recent slowdown, according to mortgage lender Bradford & Bingley and housebuilder George Wimpey.\\n\\nB&B said the buy-to-let market - in which the bank is a major player - would continue to grow much faster than the wider mortgage market. The comments came as it reported a 6% rise in profits to \\xc2\\xa3280.2m ($532m). Wimpey reported a 19% rise in profits to \\xc2\\xa3450.7m and said recent new home reservations were better than expected.\\n\\nRecent housing market surveys have indicated that the UK property market has cooled in recent months after several years of rapid growth. Last week, figures from the Council of Mortgage Lenders (CML) indicated that the popularity of buy-to-let mortgages - a key phenomenon of the housing boom - could be waning.\\n\\nBut B&B - which has a 22% share of the UK buy-to-let mortgage market - said that while rates of growth were moderating, the sector \"continues to grow at a rate considerably above that of the whole mortgage market\". Overall, B&B said that \"housing market fundamentals remain strong\". \"Interest rates and unemployment are both likely to remain at historically low levels, real household incomes should continue to grow and housing demand is likely to outstrip supply into the medium-term.\" Despite the upbeat tone, shares in B&B were down more than 4% at 325.5p in morning trade as analysts worried over future earnings growth.\\n\\nWimpey\\'s profit figures came in at the top of expectations, with the numbers helped by buoyant sales in the US offsetting a slight slowdown in the UK. Wimpey said the UK housing market had proved \"challenging\" last year. \"By late summer, the market in general had slowed sharply across the country and showed no real improvement during the autumn,\" it added. However, the first seven weeks of this year had produced promising signs, Wimpey said. \"Visitor levels and interest in this period have been encouraging and reservations have been at the stronger end of our expectations.\" Shares in Wimpey were up 6% at 458.5p in morning trade.\\n'"
      ]
     },
     "execution_count": 14,
     "metadata": {},
     "output_type": "execute_result"
    }
   ],
   "source": [
    "data['Text'][127]"
   ]
  },
  {
   "cell_type": "markdown",
   "metadata": {},
   "source": [
    "#### Cleaned text concatenate with DataFrame"
   ]
  },
  {
   "cell_type": "code",
   "execution_count": 15,
   "metadata": {},
   "outputs": [],
   "source": [
    "cleaned_text = []\n",
    "for t in data['Text']:\n",
    "    cleaned_text.append(text_cleaner(t))"
   ]
  },
  {
   "cell_type": "markdown",
   "metadata": {},
   "source": [
    "### Summary Cleaning"
   ]
  },
  {
   "cell_type": "code",
   "execution_count": 16,
   "metadata": {},
   "outputs": [
    {
     "data": {
      "text/plain": [
       "0    b'\"Despite some positive news for the export sector, there are worrying signs for manufacturing,\" the BCC said.The BCC found confidence increased in the quarter across both the manufacturing and s...\n",
       "1    b'At the same time, about 100,000 people are expected to converge on the Brazilian resort of Porto Alegre for the World Social Forum - the so-called \"anti-Davos\" for campaigners against globalisat...\n",
       "2    b\"The unfolding scale of the disaster in south Asia had little immediate impact on US shares, however.But the disaster has little impact on stock markets in the US and Asia.Shares in Munich Re and...\n",
       "3    b'Shares in India\\'s largest power producer, National Thermal Power Corp (NTPC) have risen 13% on their stock market debut.\"Power needs in India are set to rise and NTPC will benefit from that.\"NT...\n",
       "4    b\"LVMH said the French designer's haute couture and ready-to-wear labels had been purchased by the Falic Group for an unspecified sum.Luxury goods group LVMH has sold its loss-making Christian Lac...\n",
       "5    b\"A Marsh spokeswoman said Mr Bewlay was no longer with the company.The highest ranking executive pleading guilty on Tuesday was former Marsh senior vice president Joshua Bewlay.Another three US i...\n",
       "6    b\"Turkcell's mobile deal is the second Turkish investment in Iran to run into trouble.The company has said it is prepared to accept a minority stake if Iran will award it the mobile deal.Turkey's ...\n",
       "7    b\"The plan is likely to give creditors of Parmalat Finanziaria shares worth about 5.7% of the debts they are owed.Creditors of Parmalat, the main operating company, are likely to see the percentag...\n",
       "8    b'Mr Sullivan, 42, has already pleaded guilty to fraud and will be sentenced following Mr Ebbers\\' trial, where he is appearing as a prosecution witness.Mr Sullivan claims that Mr Ebbers refused t...\n",
       "9    b'Mr Ebbers relationship to Mr Sullivan is key to the case surrounding financial corruption that led to the collapse of the firm in 2002 following the discovery of an $11bn accounting fraud.During...\n",
       "Name: Summary, dtype: object"
      ]
     },
     "execution_count": 16,
     "metadata": {},
     "output_type": "execute_result"
    }
   ],
   "source": [
    "data['Summary'][:10]"
   ]
  },
  {
   "cell_type": "code",
   "execution_count": 17,
   "metadata": {},
   "outputs": [],
   "source": [
    "def summary_cleaner(text):\n",
    "    newString = text.decode(\"utf-8\")\n",
    "    newString = re.sub('\"','', newString)\n",
    "    newString = ' '.join([contraction_mapping[t] if t in contraction_mapping else t for t in newString.split(\" \")])    \n",
    "    newString = re.sub(r\"'s\\b\",\"\",newString)\n",
    "    newString = re.sub(\"[^a-zA-Z]\", \" \", newString)\n",
    "    newString = newString.lower()\n",
    "    tokens = newString.split()\n",
    "    newString = ''\n",
    "    for i in tokens:\n",
    "        if len(i)>1:                                 \n",
    "            newString=newString + i + ' '  \n",
    "    return newString"
   ]
  },
  {
   "cell_type": "code",
   "execution_count": 18,
   "metadata": {},
   "outputs": [],
   "source": [
    "cleaned_summary = []\n",
    "for t in data['Summary']:\n",
    "    cleaned_summary.append(summary_cleaner(t))\n",
    "\n",
    "data['cleaned_text']=cleaned_text\n",
    "data['cleaned_summary']=cleaned_summary\n",
    "\n",
    "data['cleaned_summary'].replace('', np.nan, inplace=True)\n",
    "data.dropna(axis=0,inplace=True)\n",
    "\n",
    "data['cleaned_summary'] = data['cleaned_summary'].apply(lambda x: '_START_ ' + x + ' _END_')"
   ]
  },
  {
   "cell_type": "code",
   "execution_count": 19,
   "metadata": {},
   "outputs": [
    {
     "data": {
      "text/html": [
       "<div>\n",
       "<style scoped>\n",
       "    .dataframe tbody tr th:only-of-type {\n",
       "        vertical-align: middle;\n",
       "    }\n",
       "\n",
       "    .dataframe tbody tr th {\n",
       "        vertical-align: top;\n",
       "    }\n",
       "\n",
       "    .dataframe thead th {\n",
       "        text-align: right;\n",
       "    }\n",
       "</style>\n",
       "<table border=\"1\" class=\"dataframe\">\n",
       "  <thead>\n",
       "    <tr style=\"text-align: right;\">\n",
       "      <th></th>\n",
       "      <th>Text</th>\n",
       "      <th>Summary</th>\n",
       "      <th>cleaned_text</th>\n",
       "      <th>cleaned_summary</th>\n",
       "    </tr>\n",
       "  </thead>\n",
       "  <tbody>\n",
       "    <tr>\n",
       "      <th>0</th>\n",
       "      <td>b'UK economy facing \\'major risks\\'\\n\\nThe UK manufacturing sector will continue to face \"serious challenges\" over the next two years, the British Chamber of Commerce (BCC) has said.\\n\\nThe group\\...</td>\n",
       "      <td>b'\"Despite some positive news for the export sector, there are worrying signs for manufacturing,\" the BCC said.The BCC found confidence increased in the quarter across both the manufacturing and s...</td>\n",
       "      <td>economy facing major risks manufacturing sector continue face serious challenges next two years british chamber commerce said group quarterly survey companies found exports picked last three month...</td>\n",
       "      <td>_START_ despite some positive news for the export sector there are worrying signs for manufacturing the bcc said the bcc found confidence increased in the quarter across both the manufacturing and...</td>\n",
       "    </tr>\n",
       "    <tr>\n",
       "      <th>1</th>\n",
       "      <td>b'Aids and climate top Davos agenda\\n\\nClimate change and the fight against Aids are leading the list of concerns for the first day of the World Economic Forum in the Swiss resort of Davos.\\n\\nSom...</td>\n",
       "      <td>b'At the same time, about 100,000 people are expected to converge on the Brazilian resort of Porto Alegre for the World Social Forum - the so-called \"anti-Davos\" for campaigners against globalisat...</td>\n",
       "      <td>aids climate top davos agenda climate change fight aids leading list concerns first day world economic forum swiss resort davos business political leaders around globe listen prime minister tony b...</td>\n",
       "      <td>_START_ at the same time about people are expected to converge on the brazilian resort of porto alegre for the world social forum the so called anti davos for campaigners against globalisation for...</td>\n",
       "    </tr>\n",
       "    <tr>\n",
       "      <th>2</th>\n",
       "      <td>b'Asian quake hits European shares\\n\\nShares in Europe\\'s leading reinsurers and travel firms have fallen as the scale of the damage wrought by tsunamis across south Asia has become apparent.\\n\\nM...</td>\n",
       "      <td>b\"The unfolding scale of the disaster in south Asia had little immediate impact on US shares, however.But the disaster has little impact on stock markets in the US and Asia.Shares in Munich Re and...</td>\n",
       "      <td>asian quake hits european shares shares europe leading reinsurers travel firms fallen scale damage wrought tsunamis across south asia become apparent people killed following massive underwater ear...</td>\n",
       "      <td>_START_ the unfolding scale of the disaster in south asia had little immediate impact on us shares however but the disaster has little impact on stock markets in the us and asia shares in munich r...</td>\n",
       "    </tr>\n",
       "    <tr>\n",
       "      <th>3</th>\n",
       "      <td>b'India power shares jump on debut\\n\\nShares in India\\'s largest power producer, National Thermal Power Corp (NTPC) have risen 13% on their stock market debut.\\n\\nThe government\\'s partial sell-of...</td>\n",
       "      <td>b'Shares in India\\'s largest power producer, National Thermal Power Corp (NTPC) have risen 13% on their stock market debut.\"Power needs in India are set to rise and NTPC will benefit from that.\"NT...</td>\n",
       "      <td>india power shares jump debut shares india largest power producer national thermal power corp risen stock market debut government partial sell ntpc part controversial programme privatise state run...</td>\n",
       "      <td>_START_ shares in india largest power producer national thermal power corp ntpc have risen on their stock market debut power needs in india are set to rise and ntpc will benefit from that ntpc has...</td>\n",
       "    </tr>\n",
       "    <tr>\n",
       "      <th>4</th>\n",
       "      <td>b\"Lacroix label bought by US firm\\n\\nLuxury goods group LVMH has sold its loss-making Christian Lacroix clothing label to a US investment group.\\n\\nThe Paris-based firm has been shedding non-core ...</td>\n",
       "      <td>b\"LVMH said the French designer's haute couture and ready-to-wear labels had been purchased by the Falic Group for an unspecified sum.Luxury goods group LVMH has sold its loss-making Christian Lac...</td>\n",
       "      <td>lacroix label bought firm luxury goods group lvmh sold loss making christian lacroix clothing label investment group paris based firm shedding non core businesses focusing profitable brands includ...</td>\n",
       "      <td>_START_ lvmh said the french designer haute couture and ready to wear labels had been purchased by the falic group for an unspecified sum luxury goods group lvmh has sold its loss making christian...</td>\n",
       "    </tr>\n",
       "  </tbody>\n",
       "</table>\n",
       "</div>"
      ],
      "text/plain": [
       "                                                                                                                                                                                                      Text  \\\n",
       "0  b'UK economy facing \\'major risks\\'\\n\\nThe UK manufacturing sector will continue to face \"serious challenges\" over the next two years, the British Chamber of Commerce (BCC) has said.\\n\\nThe group\\...   \n",
       "1  b'Aids and climate top Davos agenda\\n\\nClimate change and the fight against Aids are leading the list of concerns for the first day of the World Economic Forum in the Swiss resort of Davos.\\n\\nSom...   \n",
       "2  b'Asian quake hits European shares\\n\\nShares in Europe\\'s leading reinsurers and travel firms have fallen as the scale of the damage wrought by tsunamis across south Asia has become apparent.\\n\\nM...   \n",
       "3  b'India power shares jump on debut\\n\\nShares in India\\'s largest power producer, National Thermal Power Corp (NTPC) have risen 13% on their stock market debut.\\n\\nThe government\\'s partial sell-of...   \n",
       "4  b\"Lacroix label bought by US firm\\n\\nLuxury goods group LVMH has sold its loss-making Christian Lacroix clothing label to a US investment group.\\n\\nThe Paris-based firm has been shedding non-core ...   \n",
       "\n",
       "                                                                                                                                                                                                   Summary  \\\n",
       "0  b'\"Despite some positive news for the export sector, there are worrying signs for manufacturing,\" the BCC said.The BCC found confidence increased in the quarter across both the manufacturing and s...   \n",
       "1  b'At the same time, about 100,000 people are expected to converge on the Brazilian resort of Porto Alegre for the World Social Forum - the so-called \"anti-Davos\" for campaigners against globalisat...   \n",
       "2  b\"The unfolding scale of the disaster in south Asia had little immediate impact on US shares, however.But the disaster has little impact on stock markets in the US and Asia.Shares in Munich Re and...   \n",
       "3  b'Shares in India\\'s largest power producer, National Thermal Power Corp (NTPC) have risen 13% on their stock market debut.\"Power needs in India are set to rise and NTPC will benefit from that.\"NT...   \n",
       "4  b\"LVMH said the French designer's haute couture and ready-to-wear labels had been purchased by the Falic Group for an unspecified sum.Luxury goods group LVMH has sold its loss-making Christian Lac...   \n",
       "\n",
       "                                                                                                                                                                                              cleaned_text  \\\n",
       "0  economy facing major risks manufacturing sector continue face serious challenges next two years british chamber commerce said group quarterly survey companies found exports picked last three month...   \n",
       "1  aids climate top davos agenda climate change fight aids leading list concerns first day world economic forum swiss resort davos business political leaders around globe listen prime minister tony b...   \n",
       "2  asian quake hits european shares shares europe leading reinsurers travel firms fallen scale damage wrought tsunamis across south asia become apparent people killed following massive underwater ear...   \n",
       "3  india power shares jump debut shares india largest power producer national thermal power corp risen stock market debut government partial sell ntpc part controversial programme privatise state run...   \n",
       "4  lacroix label bought firm luxury goods group lvmh sold loss making christian lacroix clothing label investment group paris based firm shedding non core businesses focusing profitable brands includ...   \n",
       "\n",
       "                                                                                                                                                                                           cleaned_summary  \n",
       "0  _START_ despite some positive news for the export sector there are worrying signs for manufacturing the bcc said the bcc found confidence increased in the quarter across both the manufacturing and...  \n",
       "1  _START_ at the same time about people are expected to converge on the brazilian resort of porto alegre for the world social forum the so called anti davos for campaigners against globalisation for...  \n",
       "2  _START_ the unfolding scale of the disaster in south asia had little immediate impact on us shares however but the disaster has little impact on stock markets in the us and asia shares in munich r...  \n",
       "3  _START_ shares in india largest power producer national thermal power corp ntpc have risen on their stock market debut power needs in india are set to rise and ntpc will benefit from that ntpc has...  \n",
       "4  _START_ lvmh said the french designer haute couture and ready to wear labels had been purchased by the falic group for an unspecified sum luxury goods group lvmh has sold its loss making christian...  "
      ]
     },
     "execution_count": 19,
     "metadata": {},
     "output_type": "execute_result"
    }
   ],
   "source": [
    "data.head()"
   ]
  },
  {
   "cell_type": "markdown",
   "metadata": {},
   "source": [
    "### Distribution of the sequences"
   ]
  },
  {
   "cell_type": "code",
   "execution_count": 20,
   "metadata": {},
   "outputs": [
    {
     "data": {
      "image/png": "[encoded data removed]",
      "text/plain": [
       "<Figure size 1440x720 with 4 Axes>"
      ]
     },
     "metadata": {
      "needs_background": "light"
     },
     "output_type": "display_data"
    }
   ],
   "source": [
    "text_word_count = []\n",
    "summary_word_count = []\n",
    "\n",
    "c_text_word_count = []\n",
    "c_summary_word_count = []\n",
    "\n",
    "# populate the lists with sentence lengths\n",
    "for i in data['Text']:\n",
    "      text_word_count.append(len(i.split()))\n",
    "\n",
    "for i in data['Summary']:\n",
    "      summary_word_count.append(len(i.split()))\n",
    "        \n",
    "for i in data['cleaned_text']:\n",
    "      c_text_word_count.append(len(i.split()))\n",
    "\n",
    "for i in data['cleaned_summary']:\n",
    "      c_summary_word_count.append(len(i.split()))\n",
    "\n",
    "length_df = pd.DataFrame({'text':text_word_count, 'summary':summary_word_count,\n",
    "                          'cleaned text': c_text_word_count, 'cleaned summary': c_summary_word_count})\n",
    "\n",
    "length_df.hist(bins = 100, figsize=(20,10))\n",
    "\n",
    "plt.show()"
   ]
  },
  {
   "cell_type": "code",
   "execution_count": 21,
   "metadata": {},
   "outputs": [
    {
     "data": {
      "text/plain": [
       "144.0"
      ]
     },
     "execution_count": 21,
     "metadata": {},
     "output_type": "execute_result"
    }
   ],
   "source": [
    "max_len_sum = [len(data.split()) for data in data['cleaned_summary']]\n",
    "np.median(max_len_sum)"
   ]
  },
  {
   "cell_type": "code",
   "execution_count": 22,
   "metadata": {},
   "outputs": [
    {
     "data": {
      "text/plain": [
       "185.0"
      ]
     },
     "execution_count": 22,
     "metadata": {},
     "output_type": "execute_result"
    }
   ],
   "source": [
    "max_len_sum = [len(data.split()) for data in data['cleaned_text']]\n",
    "np.median(max_len_sum)"
   ]
  },
  {
   "cell_type": "code",
   "execution_count": 23,
   "metadata": {},
   "outputs": [],
   "source": [
    "max_len_text = 300 \n",
    "max_len_summary = 100"
   ]
  },
  {
   "cell_type": "markdown",
   "metadata": {},
   "source": [
    "### Preparing Tokenizer"
   ]
  },
  {
   "cell_type": "code",
   "execution_count": 24,
   "metadata": {},
   "outputs": [
    {
     "name": "stdout",
     "output_type": "stream",
     "text": [
      "(45,)\n",
      "(5,)\n",
      "(45,)\n",
      "(5,)\n"
     ]
    }
   ],
   "source": [
    "X_train , X_test , y_train , y_test = train_test_split(data['cleaned_text'][:50], data['cleaned_summary'][:50], test_size=0.1, random_state=0, shuffle=True)\n",
    "\n",
    "print(X_train.shape)\n",
    "print(X_test.shape)\n",
    "print(y_train.shape)\n",
    "print(y_test.shape)"
   ]
  },
  {
   "cell_type": "markdown",
   "metadata": {},
   "source": [
    "#### Text Tokenizer"
   ]
  },
  {
   "cell_type": "code",
   "execution_count": 25,
   "metadata": {},
   "outputs": [],
   "source": [
    "#prepare a tokenizer for reviews on training data\n",
    "x_tokenizer = Tokenizer()\n",
    "x_tokenizer.fit_on_texts(list(X_train))\n",
    "\n",
    "#convert text sequences into integer sequences\n",
    "X_train = x_tokenizer.texts_to_sequences(X_train) \n",
    "X_test = x_tokenizer.texts_to_sequences(X_test)\n",
    "\n",
    "#padding zero upto maximum length\n",
    "X_train = pad_sequences(X_train,  maxlen=max_len_text, padding='post') \n",
    "X_test = pad_sequences(X_test, maxlen=max_len_text, padding='post')\n",
    "\n",
    "x_voc_size = len(x_tokenizer.word_index) +1"
   ]
  },
  {
   "cell_type": "markdown",
   "metadata": {},
   "source": [
    "#### Summary Tokenizer"
   ]
  },
  {
   "cell_type": "code",
   "execution_count": 26,
   "metadata": {},
   "outputs": [],
   "source": [
    "#preparing a tokenizer for summary on training data \n",
    "y_tokenizer = Tokenizer()\n",
    "y_tokenizer.fit_on_texts(list(y_train))\n",
    "\n",
    "#convert summary sequences into integer sequences\n",
    "y_train = y_tokenizer.texts_to_sequences(y_train) \n",
    "y_test = y_tokenizer.texts_to_sequences(y_test) \n",
    "\n",
    "#padding zero upto maximum length\n",
    "y_train = pad_sequences(y_train, maxlen=max_len_summary, padding='post')\n",
    "y_test = pad_sequences(y_test, maxlen=max_len_summary, padding='post')\n",
    "\n",
    "y_voc_size = len(y_tokenizer.word_index) +1"
   ]
  },
  {
   "cell_type": "code",
   "execution_count": 27,
   "metadata": {},
   "outputs": [
    {
     "name": "stdout",
     "output_type": "stream",
     "text": [
      "(45, 300)\n",
      "(5, 300)\n",
      "(45, 100)\n",
      "(5, 100)\n"
     ]
    }
   ],
   "source": [
    "print(X_train.shape)\n",
    "print(X_test.shape)\n",
    "print(y_train.shape)\n",
    "print(y_test.shape)"
   ]
  },
  {
   "cell_type": "markdown",
   "metadata": {},
   "source": [
    "# 4.0 Model"
   ]
  },
  {
   "cell_type": "code",
   "execution_count": 28,
   "metadata": {},
   "outputs": [],
   "source": [
    "K.clear_session() \n",
    "latent_dim = 500 \n",
    "\n",
    "# Encoder \n",
    "encoder_inputs = Input(shape=(max_len_text,)) \n",
    "enc_emb = Embedding(x_voc_size, latent_dim, trainable=True)(encoder_inputs) \n",
    "\n",
    "#LSTM 1 \n",
    "encoder_lstm1 = LSTM(latent_dim, return_sequences=True, return_state=True) \n",
    "encoder_output1, state_h1, state_c1 = encoder_lstm1(enc_emb) \n",
    "\n",
    "#LSTM 2 \n",
    "encoder_lstm2 = LSTM(latent_dim, return_sequences=True, return_state=True) \n",
    "encoder_output2, state_h2, state_c2 = encoder_lstm2(encoder_output1) \n",
    "\n",
    "#LSTM 3 \n",
    "encoder_lstm3=LSTM(latent_dim, return_sequences=True, return_state=True) \n",
    "encoder_outputs, state_h, state_c= encoder_lstm3(encoder_output2) \n",
    "\n",
    "# Set up the decoder. \n",
    "decoder_inputs = Input(shape=(None,)) \n",
    "dec_emb_layer = Embedding(y_voc_size, latent_dim, trainable=True) \n",
    "dec_emb = dec_emb_layer(decoder_inputs) \n",
    "\n",
    "#LSTM using encoder_states as initial state\n",
    "decoder_lstm = LSTM(latent_dim, return_sequences=True, return_state=True) \n",
    "decoder_outputs, decoder_fwd_state, decoder_back_state = decoder_lstm(dec_emb, initial_state=[state_h, state_c]) \n",
    "\n",
    "#Attention Layer\n",
    "attn_layer = AttentionLayer(name='attention_layer') \n",
    "attn_out, attn_states = attn_layer([encoder_outputs, decoder_outputs]) \n",
    "\n",
    "# Concat attention output and decoder LSTM output \n",
    "decoder_concat_input = Concatenate(axis=-1, name='concat_layer')([decoder_outputs, attn_out])\n",
    "\n",
    "#Dense layer\n",
    "decoder_dense = TimeDistributed(Dense(y_voc_size, activation='softmax')) \n",
    "decoder_outputs = decoder_dense(decoder_concat_input) \n",
    "\n",
    "# Define the model\n",
    "model = Model([encoder_inputs, decoder_inputs], decoder_outputs) "
   ]
  },
  {
   "cell_type": "code",
   "execution_count": 29,
   "metadata": {},
   "outputs": [
    {
     "name": "stdout",
     "output_type": "stream",
     "text": [
      "Model: \"model\"\n",
      "__________________________________________________________________________________________________\n",
      "Layer (type)                    Output Shape         Param #     Connected to                     \n",
      "==================================================================================================\n",
      "input_1 (InputLayer)            [(None, 300)]        0                                            \n",
      "__________________________________________________________________________________________________\n",
      "embedding (Embedding)           (None, 300, 500)     1495500     input_1[0][0]                    \n",
      "__________________________________________________________________________________________________\n",
      "lstm (LSTM)                     [(None, 300, 500), ( 2002000     embedding[0][0]                  \n",
      "__________________________________________________________________________________________________\n",
      "input_2 (InputLayer)            [(None, None)]       0                                            \n",
      "__________________________________________________________________________________________________\n",
      "lstm_1 (LSTM)                   [(None, 300, 500), ( 2002000     lstm[0][0]                       \n",
      "__________________________________________________________________________________________________\n",
      "embedding_1 (Embedding)         (None, None, 500)    904000      input_2[0][0]                    \n",
      "__________________________________________________________________________________________________\n",
      "lstm_2 (LSTM)                   [(None, 300, 500), ( 2002000     lstm_1[0][0]                     \n",
      "__________________________________________________________________________________________________\n",
      "lstm_3 (LSTM)                   [(None, None, 500),  2002000     embedding_1[0][0]                \n",
      "                                                                 lstm_2[0][1]                     \n",
      "                                                                 lstm_2[0][2]                     \n",
      "__________________________________________________________________________________________________\n",
      "attention_layer (AttentionLayer ((None, None, 500),  500500      lstm_2[0][0]                     \n",
      "                                                                 lstm_3[0][0]                     \n",
      "__________________________________________________________________________________________________\n",
      "concat_layer (Concatenate)      (None, None, 1000)   0           lstm_3[0][0]                     \n",
      "                                                                 attention_layer[0][0]            \n",
      "__________________________________________________________________________________________________\n",
      "time_distributed (TimeDistribut (None, None, 1808)   1809808     concat_layer[0][0]               \n",
      "==================================================================================================\n",
      "Total params: 12,717,808\n",
      "Trainable params: 12,717,808\n",
      "Non-trainable params: 0\n",
      "__________________________________________________________________________________________________\n"
     ]
    }
   ],
   "source": [
    "model.summary()"
   ]
  },
  {
   "cell_type": "markdown",
   "metadata": {},
   "source": [
    "#### Model optimization"
   ]
  },
  {
   "cell_type": "code",
   "execution_count": 30,
   "metadata": {},
   "outputs": [],
   "source": [
    "model.compile(optimizer='rmsprop', loss='sparse_categorical_crossentropy')\n",
    "\n",
    "es = EarlyStopping(monitor='val_loss', mode='min', verbose=1)"
   ]
  },
  {
   "cell_type": "markdown",
   "metadata": {},
   "source": [
    "#### Model fitting"
   ]
  },
  {
   "cell_type": "code",
   "execution_count": 31,
   "metadata": {},
   "outputs": [
    {
     "name": "stdout",
     "output_type": "stream",
     "text": [
      "Train Model...\n",
      "Train on 45 samples, validate on 5 samples\n",
      "Epoch 1/3\n",
      "45/45 [==============================] - 32s 719ms/sample - loss: 7.4996 - val_loss: 7.2413\n",
      "Epoch 2/3\n",
      "45/45 [==============================] - 26s 586ms/sample - loss: 7.3941 - val_loss: 6.6041\n",
      "Epoch 3/3\n",
      "45/45 [==============================] - 26s 568ms/sample - loss: 7.7961 - val_loss: 7.4298\n",
      "Epoch 00003: early stopping\n",
      "Model saved\n"
     ]
    }
   ],
   "source": [
    "try:\n",
    "    model = load_model('model.h5', custom_objects={'AttentionLayer': AttentionLayer})\n",
    "    print(\"Model successfully loaded.\")\n",
    "except:\n",
    "    print(\"Train Model...\")\n",
    "    history = model.fit([X_train, y_train[:,:-1]], \n",
    "                    y_train.reshape(y_train.shape[0], y_train.shape[1], 1)[:,1:],\n",
    "                    epochs=3,\n",
    "                    callbacks=[es],\n",
    "                    batch_size=256, \n",
    "                    validation_data=([X_test,y_test[:,:-1]],\n",
    "                                     y_test.reshape(y_test.shape[0],y_test.shape[1], 1)[:,1:])\n",
    "                   )\n",
    "    model.save('model.h5')\n",
    "    print(\"Model saved\")"
   ]
  },
  {
   "cell_type": "markdown",
   "metadata": {},
   "source": [
    "# 5.0 Evaluation"
   ]
  },
  {
   "cell_type": "code",
   "execution_count": 32,
   "metadata": {},
   "outputs": [
    {
     "data": {
      "image/png": "[encoded data removed]",
      "text/plain": [
       "<Figure size 432x288 with 1 Axes>"
      ]
     },
     "metadata": {
      "needs_background": "light"
     },
     "output_type": "display_data"
    }
   ],
   "source": [
    "plt.plot(history.history['loss'], label='train') \n",
    "plt.plot(history.history['val_loss'], label='test') \n",
    "plt.legend()\n",
    "plt.show()"
   ]
  },
  {
   "cell_type": "code",
   "execution_count": 33,
   "metadata": {},
   "outputs": [],
   "source": [
    "reverse_target_word_index = y_tokenizer.index_word \n",
    "reverse_source_word_index = x_tokenizer.index_word \n",
    "target_word_index = y_tokenizer.word_index"
   ]
  },
  {
   "cell_type": "markdown",
   "metadata": {},
   "source": [
    "#### Inference"
   ]
  },
  {
   "cell_type": "code",
   "execution_count": 34,
   "metadata": {},
   "outputs": [],
   "source": [
    "# encoder inference\n",
    "encoder_model = Model(inputs=encoder_inputs, outputs=[encoder_outputs, state_h, state_c])\n",
    "\n",
    "# decoder inference\n",
    "# Below tensors will hold the states of the previous time step\n",
    "decoder_state_input_h = Input(shape=(latent_dim,))\n",
    "decoder_state_input_c = Input(shape=(latent_dim,))\n",
    "decoder_hidden_state_input = Input(shape=(max_len_text,latent_dim))\n",
    "\n",
    "# Get the embeddings of the decoder sequence\n",
    "dec_emb2= dec_emb_layer(decoder_inputs)\n",
    "\n",
    "# To predict the next word in the sequence, set the initial states to the states from the previous time step\n",
    "decoder_outputs2, state_h2, state_c2 = decoder_lstm(dec_emb2, initial_state=[decoder_state_input_h, decoder_state_input_c])\n",
    "\n",
    "#attention inference\n",
    "attn_out_inf, attn_states_inf = attn_layer([decoder_hidden_state_input, decoder_outputs2])\n",
    "decoder_inf_concat = Concatenate(axis=-1, name='concat')([decoder_outputs2, attn_out_inf])\n",
    "\n",
    "# A dense softmax layer to generate prob dist. over the target vocabulary\n",
    "decoder_outputs2 = decoder_dense(decoder_inf_concat)\n",
    "\n",
    "# Final decoder model\n",
    "decoder_model = Model(\n",
    "    [decoder_inputs] + [decoder_hidden_state_input, decoder_state_input_h, decoder_state_input_c],\n",
    "    [decoder_outputs2] + [state_h2, state_c2]\n",
    ")"
   ]
  },
  {
   "cell_type": "markdown",
   "metadata": {},
   "source": [
    "#### Inference Process"
   ]
  },
  {
   "cell_type": "code",
   "execution_count": 35,
   "metadata": {},
   "outputs": [],
   "source": [
    "def decode_sequence(input_seq):\n",
    "    # Encode the input as state vectors.\n",
    "    e_out, e_h, e_c = encoder_model.predict(input_seq)\n",
    "\n",
    "    # Generate empty target sequence of length 1.\n",
    "    target_seq = np.zeros((1,1))\n",
    "\n",
    "    # Chose the 'start' word as the first word of the target sequence\n",
    "    target_seq[0, 0] = target_word_index['start']\n",
    "\n",
    "    stop_condition = False\n",
    "    decoded_sentence = ''\n",
    "    \n",
    "    while not stop_condition:\n",
    "        \n",
    "        output_tokens, h, c = decoder_model.predict([target_seq] + [e_out, e_h, e_c])\n",
    "\n",
    "        # Sample a token\n",
    "        sampled_token_index = np.argmax(output_tokens[0, -1, :])\n",
    "        sampled_token = reverse_target_word_index[sampled_token_index]\n",
    "\n",
    "        if(sampled_token != 'end'):\n",
    "            decoded_sentence += ' ' + sampled_token\n",
    "\n",
    "            # Exit condition: either hit max length or find stop word.\n",
    "        if (sampled_token == 'end' or len(decoded_sentence.split()) >= (max_len_summary-1)):\n",
    "            stop_condition = True\n",
    "\n",
    "        # Update the target sequence (of length 1).\n",
    "        target_seq = np.zeros((1,1))\n",
    "        target_seq[0, 0] = sampled_token_index\n",
    "\n",
    "        # Update internal states\n",
    "        e_h, e_c = h, c\n",
    "\n",
    "    return decoded_sentence"
   ]
  },
  {
   "cell_type": "code",
   "execution_count": 36,
   "metadata": {},
   "outputs": [],
   "source": [
    "def seq2summary(input_seq):\n",
    "    newString = ''\n",
    "    \n",
    "    for i in input_seq:\n",
    "        if((i!=0 and i!= target_word_index['start']) and i != target_word_index['end']):\n",
    "            newString = newString + reverse_target_word_index[i] + ' '\n",
    "            \n",
    "    return newString\n",
    "\n",
    "def seq2text(input_seq):\n",
    "    newString = ''\n",
    "    \n",
    "    for i in input_seq:\n",
    "        if(i != 0):\n",
    "            newString = newString + reverse_source_word_index[i] + ' '\n",
    "            \n",
    "    return newString"
   ]
  },
  {
   "cell_type": "code",
   "execution_count": 37,
   "metadata": {},
   "outputs": [
    {
     "name": "stdout",
     "output_type": "stream",
     "text": [
      "Review: china top trader japan china become japan biggest trading partner according numbers japan finance ministry wednesday china japan trade compared ahead china came second change china growing economic japan imports exports china added highest figure japanese trade china since records began trade trade hurt one factors including month ban imports following discovery mad however economists predict china become even important japanese trading partner coming years tuesday figures showed china economy grew experts say overall growth picture remains strong analysts see two future growth china membership world trade organisation lower trade tariffs japan trade grew trillion half trillion trade december grew year ago trillion stronger expected exports \n",
      "\n",
      " Original summary: china for of japan trade in compared with for the us during japan trade grew to trillion with more than half the trillion for by its trade with the us it with bn in trade with the us china the us to become japan biggest partner in according to numbers by japan finance ministry on wednesday this is the highest figure for trade with china since records began in in the us was ahead with and china came second with \n",
      "\n",
      " Predicted summary:  couture couture couture couture couture couture couture couture couture couture couture couture couture couture couture couture couture couture couture couture couture couture couture couture couture couture couture couture couture couture couture couture ebay ebay ebay ebay ebay ebay ebay ebay ebay ebay ebay ebay ebay ebay ebay ebay ebay ebay ebay ebay ebay ebay ebay ebay ebay ebay ebay ebay ebay ebay ebay ebay ebay ebay ebay ebay ebay ebay ebay ebay ebay ebay ebay ebay ebay ebay ebay ebay ebay ebay ebay ebay ebay ebay ebay ebay ebay ebay ebay ebay ebay ebay ebay ebay ebay ebay ebay\n",
      "\n",
      "\n",
      "Review: investor london hotel sold group investor unit bank financial details deal includes nearby based property firm private bought along last year hotel investments include luxury george paris also substantial stakes four said planned invest including river views river work expected summer said \n",
      "\n",
      " Original summary: he also has substantial stakes in which will the and in the and four said it planned to invest in of the including the river and with over the river london has been sold to group investor and unit of bank \n",
      "\n",
      " Predicted summary:  couture couture couture couture couture couture couture couture couture couture couture couture couture couture couture couture couture couture couture couture couture couture couture couture couture couture couture couture couture couture couture couture ebay ebay ebay ebay ebay ebay ebay ebay ebay ebay ebay ebay ebay ebay ebay ebay ebay ebay ebay ebay ebay ebay ebay ebay ebay ebay ebay ebay ebay ebay ebay ebay ebay ebay ebay ebay ebay ebay ebay ebay ebay ebay ebay ebay ebay ebay ebay ebay ebay ebay ebay ebay ebay ebay ebay ebay ebay ebay ebay ebay ebay ebay ebay ebay ebay ebay ebay\n",
      "\n",
      "\n"
     ]
    }
   ],
   "source": [
    "for i in range(2):\n",
    "    print(\"Review:\", seq2text(X_test[i]))\n",
    "    print(\"\\n Original summary:\", seq2summary(y_test[i]))\n",
    "    print(\"\\n Predicted summary:\", decode_sequence(X_test[i].reshape(1,max_len_text)))\n",
    "    print(\"\\n\")"
   ]
  },
  {
   "cell_type": "code",
   "execution_count": null,
   "metadata": {},
   "outputs": [],
   "source": []
  }
 ],
 "metadata": {
  "kernelspec": {
   "display_name": "Datascience-Projects",
   "language": "python",
   "name": "datascience-projects"
  },
  "language_info": {
   "codemirror_mode": {
    "name": "ipython",
    "version": 3
   },
   "file_extension": ".py",
   "mimetype": "text/x-python",
   "name": "python",
   "nbconvert_exporter": "python",
   "pygments_lexer": "ipython3",
   "version": "3.7.4"
  }
 },
 "nbformat": 4,
 "nbformat_minor": 2
}
