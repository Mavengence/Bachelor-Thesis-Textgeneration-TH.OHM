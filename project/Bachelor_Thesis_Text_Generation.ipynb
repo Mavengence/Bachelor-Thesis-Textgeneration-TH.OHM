{
 "cells": [
  {
   "cell_type": "markdown",
   "metadata": {},
   "source": [
    "![](images/ohm_logo.png)\n",
    "\n",
    "<h1><center>Bachelor Thesis</center></h1>\n",
    "\n",
    "<h1><center><big>IT-Based textgeneration using NLP methods</big><br><hr> <i>State-of-the-art and design of a prototype </i></center></h1>\n",
    "\n",
    "<center>from Tim Löhr</center>"
   ]
  },
  {
   "cell_type": "markdown",
   "metadata": {},
   "source": [
    "# 1.0 Importing the Dependcies"
   ]
  },
  {
   "cell_type": "code",
<<<<<<< HEAD
   "execution_count": 1,
=======
   "execution_count": 16,
>>>>>>> aa5e4dc2a62387195106b2b522dcd74eeda03dca
   "metadata": {},
   "outputs": [
    {
     "name": "stderr",
     "output_type": "stream",
     "text": [
<<<<<<< HEAD
      "Using TensorFlow backend.\n"
=======
      "[nltk_data] Downloading package stopwords to\n",
      "[nltk_data]     /Users/timlohr/nltk_data...\n",
      "[nltk_data]   Package stopwords is already up-to-date!\n"
>>>>>>> aa5e4dc2a62387195106b2b522dcd74eeda03dca
     ]
    }
   ],
   "source": [
    "from attention import AttentionLayer\n",
    "\n",
    "import numpy as np  \n",
    "import pandas as pd \n",
    "import re           \n",
    "from bs4 import BeautifulSoup\n",
    "import os\n",
    "\n",
    "from nltk.corpus import stopwords   \n",
    "from nltk.tokenize import word_tokenize\n",
    "from nltk.tokenize import RegexpTokenizer\n",
    "\n",
    "from keras.preprocessing.sequence import pad_sequences\n",
    "from keras.preprocessing.text import Tokenizer\n",
    "from keras import backend as K \n",
    "\n",
    "from tensorflow.keras.layers import Input, LSTM, Embedding, Dense, Concatenate, TimeDistributed, Bidirectional\n",
    "from tensorflow.keras.models import Model\n",
    "from tensorflow.keras.callbacks import EarlyStopping\n",
    "from tensorflow.keras.models import load_model, model_from_json\n",
    "\n",
    "from sklearn.model_selection import train_test_split\n",
    "\n",
    "import nltk\n",
    "import matplotlib.pyplot as plt\n",
    "\n",
    "nltk.download('stopwords')\n",
    "\n",
    "import warnings\n",
    "pd.set_option(\"display.max_colwidth\", 200)\n",
    "warnings.filterwarnings(\"ignore\")"
   ]
  },
  {
   "cell_type": "markdown",
   "metadata": {},
   "source": [
    "# 2.0 Loading the Data"
   ]
  },
  {
   "cell_type": "code",
   "execution_count": 17,
   "metadata": {
    "scrolled": true
   },
   "outputs": [],
   "source": [
    "#data = pd.read_csv('amazon-fine-food-reviews/Reviews.csv', nrows=10000)\n",
    "#data.head()"
   ]
  },
  {
   "cell_type": "code",
   "execution_count": 3,
   "metadata": {},
   "outputs": [],
   "source": [
    "#data.shape"
   ]
  },
  {
   "cell_type": "code",
   "execution_count": 4,
   "metadata": {},
   "outputs": [],
   "source": [
    "frames = ['Article', 'Summary']\n",
    "topics = ['business', 'entertainment', 'politics', 'sport', 'tech']\n",
    "\n",
    "summaries = {topic: [] for topic in topics}\n",
    "articles = {topic: [] for topic in topics}\n",
    "\n",
    "summary = []\n",
    "article = []\n",
    "\n",
    "for frame in frames:\n",
    "    for i, topic in enumerate(topics):\n",
    "        _, _, files = next(os.walk(\"./BBC_News/\" + frame + \"/\" + topic))\n",
    "        \n",
    "        for file in files:\n",
    "            file = open(\"./BBC_News/\" + frame + \"/\" + topic + \"/\" + file, 'rb')\n",
    "            text = file.read()\n",
    "            \n",
    "            if (frame == \"Article\"):\n",
    "                articles[topic].append(text)\n",
    "                article.append(text)\n",
    "            else:\n",
    "                summaries[topic].append(text)\n",
    "                summary.append(text)"
   ]
  },
  {
   "cell_type": "code",
   "execution_count": 5,
   "metadata": {},
   "outputs": [],
   "source": [
    "dataset = {'Text': article, 'Summary': summary}"
   ]
  },
  {
   "cell_type": "code",
   "execution_count": 6,
   "metadata": {},
   "outputs": [],
   "source": [
    "data = pd.DataFrame(dataset)"
   ]
  },
  {
   "cell_type": "code",
   "execution_count": 7,
   "metadata": {},
   "outputs": [
    {
     "data": {
      "text/html": [
       "<div>\n",
       "<style scoped>\n",
       "    .dataframe tbody tr th:only-of-type {\n",
       "        vertical-align: middle;\n",
       "    }\n",
       "\n",
       "    .dataframe tbody tr th {\n",
       "        vertical-align: top;\n",
       "    }\n",
       "\n",
       "    .dataframe thead th {\n",
       "        text-align: right;\n",
       "    }\n",
       "</style>\n",
       "<table border=\"1\" class=\"dataframe\">\n",
       "  <thead>\n",
       "    <tr style=\"text-align: right;\">\n",
       "      <th></th>\n",
       "      <th>Text</th>\n",
       "      <th>Summary</th>\n",
       "    </tr>\n",
       "  </thead>\n",
       "  <tbody>\n",
       "    <tr>\n",
       "      <th>0</th>\n",
       "      <td>b'UK economy facing \\'major risks\\'\\n\\nThe UK manufacturing sector will continue to face \"serious challenges\" over the next two years, the British Chamber of Commerce (BCC) has said.\\n\\nThe group\\...</td>\n",
       "      <td>b'\"Despite some positive news for the export sector, there are worrying signs for manufacturing,\" the BCC said.The BCC found confidence increased in the quarter across both the manufacturing and s...</td>\n",
       "    </tr>\n",
       "    <tr>\n",
       "      <th>1</th>\n",
       "      <td>b'Aids and climate top Davos agenda\\n\\nClimate change and the fight against Aids are leading the list of concerns for the first day of the World Economic Forum in the Swiss resort of Davos.\\n\\nSom...</td>\n",
       "      <td>b'At the same time, about 100,000 people are expected to converge on the Brazilian resort of Porto Alegre for the World Social Forum - the so-called \"anti-Davos\" for campaigners against globalisat...</td>\n",
       "    </tr>\n",
       "    <tr>\n",
       "      <th>2</th>\n",
       "      <td>b'Asian quake hits European shares\\n\\nShares in Europe\\'s leading reinsurers and travel firms have fallen as the scale of the damage wrought by tsunamis across south Asia has become apparent.\\n\\nM...</td>\n",
       "      <td>b\"The unfolding scale of the disaster in south Asia had little immediate impact on US shares, however.But the disaster has little impact on stock markets in the US and Asia.Shares in Munich Re and...</td>\n",
       "    </tr>\n",
       "    <tr>\n",
       "      <th>3</th>\n",
       "      <td>b'India power shares jump on debut\\n\\nShares in India\\'s largest power producer, National Thermal Power Corp (NTPC) have risen 13% on their stock market debut.\\n\\nThe government\\'s partial sell-of...</td>\n",
       "      <td>b'Shares in India\\'s largest power producer, National Thermal Power Corp (NTPC) have risen 13% on their stock market debut.\"Power needs in India are set to rise and NTPC will benefit from that.\"NT...</td>\n",
       "    </tr>\n",
       "    <tr>\n",
       "      <th>4</th>\n",
       "      <td>b\"Lacroix label bought by US firm\\n\\nLuxury goods group LVMH has sold its loss-making Christian Lacroix clothing label to a US investment group.\\n\\nThe Paris-based firm has been shedding non-core ...</td>\n",
       "      <td>b\"LVMH said the French designer's haute couture and ready-to-wear labels had been purchased by the Falic Group for an unspecified sum.Luxury goods group LVMH has sold its loss-making Christian Lac...</td>\n",
       "    </tr>\n",
       "  </tbody>\n",
       "</table>\n",
       "</div>"
      ],
      "text/plain": [
       "                                                                                                                                                                                                      Text  \\\n",
       "0  b'UK economy facing \\'major risks\\'\\n\\nThe UK manufacturing sector will continue to face \"serious challenges\" over the next two years, the British Chamber of Commerce (BCC) has said.\\n\\nThe group\\...   \n",
       "1  b'Aids and climate top Davos agenda\\n\\nClimate change and the fight against Aids are leading the list of concerns for the first day of the World Economic Forum in the Swiss resort of Davos.\\n\\nSom...   \n",
       "2  b'Asian quake hits European shares\\n\\nShares in Europe\\'s leading reinsurers and travel firms have fallen as the scale of the damage wrought by tsunamis across south Asia has become apparent.\\n\\nM...   \n",
       "3  b'India power shares jump on debut\\n\\nShares in India\\'s largest power producer, National Thermal Power Corp (NTPC) have risen 13% on their stock market debut.\\n\\nThe government\\'s partial sell-of...   \n",
       "4  b\"Lacroix label bought by US firm\\n\\nLuxury goods group LVMH has sold its loss-making Christian Lacroix clothing label to a US investment group.\\n\\nThe Paris-based firm has been shedding non-core ...   \n",
       "\n",
       "                                                                                                                                                                                                   Summary  \n",
       "0  b'\"Despite some positive news for the export sector, there are worrying signs for manufacturing,\" the BCC said.The BCC found confidence increased in the quarter across both the manufacturing and s...  \n",
       "1  b'At the same time, about 100,000 people are expected to converge on the Brazilian resort of Porto Alegre for the World Social Forum - the so-called \"anti-Davos\" for campaigners against globalisat...  \n",
       "2  b\"The unfolding scale of the disaster in south Asia had little immediate impact on US shares, however.But the disaster has little impact on stock markets in the US and Asia.Shares in Munich Re and...  \n",
       "3  b'Shares in India\\'s largest power producer, National Thermal Power Corp (NTPC) have risen 13% on their stock market debut.\"Power needs in India are set to rise and NTPC will benefit from that.\"NT...  \n",
       "4  b\"LVMH said the French designer's haute couture and ready-to-wear labels had been purchased by the Falic Group for an unspecified sum.Luxury goods group LVMH has sold its loss-making Christian Lac...  "
      ]
     },
<<<<<<< HEAD
     "execution_count": 7,
=======
     "execution_count": 17,
>>>>>>> aa5e4dc2a62387195106b2b522dcd74eeda03dca
     "metadata": {},
     "output_type": "execute_result"
    }
   ],
   "source": [
    "data.head()"
   ]
  },
  {
<<<<<<< HEAD
=======
   "cell_type": "code",
   "execution_count": 18,
   "metadata": {},
   "outputs": [
    {
     "data": {
      "text/plain": [
       "(10000, 10)"
      ]
     },
     "execution_count": 18,
     "metadata": {},
     "output_type": "execute_result"
    }
   ],
   "source": [
    "data.shape"
   ]
  },
  {
>>>>>>> aa5e4dc2a62387195106b2b522dcd74eeda03dca
   "cell_type": "markdown",
   "metadata": {},
   "source": [
    "# 3.0 Data Preprocessing"
   ]
  },
  {
   "cell_type": "code",
<<<<<<< HEAD
   "execution_count": 8,
=======
   "execution_count": 19,
>>>>>>> aa5e4dc2a62387195106b2b522dcd74eeda03dca
   "metadata": {},
   "outputs": [],
   "source": [
    "#data = data[['Summary', 'Text']]"
   ]
  },
  {
   "cell_type": "code",
<<<<<<< HEAD
   "execution_count": 9,
=======
   "execution_count": 20,
>>>>>>> aa5e4dc2a62387195106b2b522dcd74eeda03dca
   "metadata": {},
   "outputs": [],
   "source": [
    "data.drop_duplicates(subset='Text')\n",
    "data.dropna(axis=0, inplace=True)"
   ]
  },
  {
   "cell_type": "code",
<<<<<<< HEAD
   "execution_count": 10,
=======
   "execution_count": 21,
>>>>>>> aa5e4dc2a62387195106b2b522dcd74eeda03dca
   "metadata": {},
   "outputs": [
    {
     "data": {
      "text/plain": [
       "(2225, 2)"
      ]
     },
<<<<<<< HEAD
     "execution_count": 10,
=======
     "execution_count": 21,
>>>>>>> aa5e4dc2a62387195106b2b522dcd74eeda03dca
     "metadata": {},
     "output_type": "execute_result"
    }
   ],
   "source": [
    "data.shape"
   ]
  },
  {
   "cell_type": "markdown",
   "metadata": {},
   "source": [
    "### Contraction Mapping"
   ]
  },
  {
   "cell_type": "code",
<<<<<<< HEAD
   "execution_count": 11,
=======
   "execution_count": 22,
>>>>>>> aa5e4dc2a62387195106b2b522dcd74eeda03dca
   "metadata": {},
   "outputs": [],
   "source": [
    "from contraction_mapping import contraction_mapping\n",
    "\n",
    "contraction_mapping = contraction_mapping()"
   ]
  },
  {
   "cell_type": "markdown",
   "metadata": {},
   "source": [
    "## Cleaning\n",
    "\n",
    "### Text Cleaning"
   ]
  },
  {
   "cell_type": "code",
<<<<<<< HEAD
   "execution_count": 12,
=======
   "execution_count": 23,
>>>>>>> aa5e4dc2a62387195106b2b522dcd74eeda03dca
   "metadata": {},
   "outputs": [],
   "source": [
    "stop_words = stopwords.words('english')\n",
    "tokenizer = RegexpTokenizer(r'\\w+')\n",
    "\n",
    "def text_cleaner(text):\n",
    "    newString = text.lower()\n",
    "    newString = BeautifulSoup(newString, \"lxml\").text\n",
    "    newString = re.sub(r'\\([^)]*\\)', '', newString)\n",
    "    newString = re.sub('\"','', newString)\n",
    "    newString = ' '.join([contraction_mapping[t] if t in contraction_mapping else t for t in newString.split(\" \")])    \n",
    "    newString = re.sub(r\"'s\\b\",\"\",newString)\n",
    "    newString = re.sub(\"[^a-zA-Z]\", \" \", newString) \n",
    "    tokens = [w for w in newString.split() if not w in stop_words]\n",
    "    long_words=[]\n",
    "    for i in tokens:\n",
    "        if len(i)>=3:                  #removing short word\n",
    "            long_words.append(i)   \n",
    "    return (\" \".join(long_words)).strip()"
   ]
  },
  {
   "cell_type": "code",
<<<<<<< HEAD
   "execution_count": 13,
=======
   "execution_count": 24,
>>>>>>> aa5e4dc2a62387195106b2b522dcd74eeda03dca
   "metadata": {},
   "outputs": [
    {
     "data": {
      "text/plain": [
       "'optimism remains housing property market remains robust despite recent slowdown according mortgage lender bradford bingley housebuilder george wimpey said buy let market bank major player would continue grow much faster wider mortgage market comments came reported rise profits wimpey reported rise profits said recent new home reservations better expected recent housing market surveys indicated property market cooled recent months several years rapid growth last week figures council mortgage lenders indicated popularity buy let mortgages key phenomenon housing boom could waning share buy let mortgage market said rates growth moderating sector continues grow rate considerably whole mortgage market overall said housing market fundamentals remain strong interest rates unemployment likely remain historically low levels real household incomes continue grow housing demand likely outstrip supply medium term despite upbeat tone shares morning trade analysts worried future earnings growth wimpey profit figures came top expectations numbers helped buoyant sales offsetting slight slowdown wimpey said housing market proved challenging last year late summer market general slowed sharply across country showed real improvement autumn added however first seven weeks year produced promising signs wimpey said visitor levels interest period encouraging reservations stronger end expectations shares wimpey morning trade'"
      ]
     },
     "execution_count": 13,
     "metadata": {},
     "output_type": "execute_result"
    }
   ],
   "source": [
    "text_cleaner(data['Text'][127])"
   ]
  },
  {
   "cell_type": "code",
<<<<<<< HEAD
   "execution_count": 14,
=======
   "execution_count": 25,
>>>>>>> aa5e4dc2a62387195106b2b522dcd74eeda03dca
   "metadata": {},
   "outputs": [
    {
     "data": {
      "text/plain": [
       "b'Optimism remains over UK housing\\n\\nThe UK property market remains robust despite the recent slowdown, according to mortgage lender Bradford & Bingley and housebuilder George Wimpey.\\n\\nB&B said the buy-to-let market - in which the bank is a major player - would continue to grow much faster than the wider mortgage market. The comments came as it reported a 6% rise in profits to \\xc2\\xa3280.2m ($532m). Wimpey reported a 19% rise in profits to \\xc2\\xa3450.7m and said recent new home reservations were better than expected.\\n\\nRecent housing market surveys have indicated that the UK property market has cooled in recent months after several years of rapid growth. Last week, figures from the Council of Mortgage Lenders (CML) indicated that the popularity of buy-to-let mortgages - a key phenomenon of the housing boom - could be waning.\\n\\nBut B&B - which has a 22% share of the UK buy-to-let mortgage market - said that while rates of growth were moderating, the sector \"continues to grow at a rate considerably above that of the whole mortgage market\". Overall, B&B said that \"housing market fundamentals remain strong\". \"Interest rates and unemployment are both likely to remain at historically low levels, real household incomes should continue to grow and housing demand is likely to outstrip supply into the medium-term.\" Despite the upbeat tone, shares in B&B were down more than 4% at 325.5p in morning trade as analysts worried over future earnings growth.\\n\\nWimpey\\'s profit figures came in at the top of expectations, with the numbers helped by buoyant sales in the US offsetting a slight slowdown in the UK. Wimpey said the UK housing market had proved \"challenging\" last year. \"By late summer, the market in general had slowed sharply across the country and showed no real improvement during the autumn,\" it added. However, the first seven weeks of this year had produced promising signs, Wimpey said. \"Visitor levels and interest in this period have been encouraging and reservations have been at the stronger end of our expectations.\" Shares in Wimpey were up 6% at 458.5p in morning trade.\\n'"
      ]
     },
     "execution_count": 14,
     "metadata": {},
     "output_type": "execute_result"
    }
   ],
   "source": [
    "data['Text'][127]"
   ]
  },
  {
   "cell_type": "markdown",
   "metadata": {},
   "source": [
    "#### Cleaned text concatenate with DataFrame"
   ]
  },
  {
   "cell_type": "code",
<<<<<<< HEAD
   "execution_count": 15,
=======
   "execution_count": 26,
>>>>>>> aa5e4dc2a62387195106b2b522dcd74eeda03dca
   "metadata": {},
   "outputs": [],
   "source": [
    "cleaned_text = []\n",
    "for t in data['Text']:\n",
    "    cleaned_text.append(text_cleaner(t))"
   ]
  },
  {
   "cell_type": "markdown",
   "metadata": {},
   "source": [
    "### Summary Cleaning"
   ]
  },
  {
   "cell_type": "code",
<<<<<<< HEAD
   "execution_count": 16,
=======
   "execution_count": 27,
>>>>>>> aa5e4dc2a62387195106b2b522dcd74eeda03dca
   "metadata": {},
   "outputs": [
    {
     "data": {
      "text/plain": [
       "0    b'\"Despite some positive news for the export sector, there are worrying signs for manufacturing,\" the BCC said.The BCC found confidence increased in the quarter across both the manufacturing and s...\n",
       "1    b'At the same time, about 100,000 people are expected to converge on the Brazilian resort of Porto Alegre for the World Social Forum - the so-called \"anti-Davos\" for campaigners against globalisat...\n",
       "2    b\"The unfolding scale of the disaster in south Asia had little immediate impact on US shares, however.But the disaster has little impact on stock markets in the US and Asia.Shares in Munich Re and...\n",
       "3    b'Shares in India\\'s largest power producer, National Thermal Power Corp (NTPC) have risen 13% on their stock market debut.\"Power needs in India are set to rise and NTPC will benefit from that.\"NT...\n",
       "4    b\"LVMH said the French designer's haute couture and ready-to-wear labels had been purchased by the Falic Group for an unspecified sum.Luxury goods group LVMH has sold its loss-making Christian Lac...\n",
       "5    b\"A Marsh spokeswoman said Mr Bewlay was no longer with the company.The highest ranking executive pleading guilty on Tuesday was former Marsh senior vice president Joshua Bewlay.Another three US i...\n",
       "6    b\"Turkcell's mobile deal is the second Turkish investment in Iran to run into trouble.The company has said it is prepared to accept a minority stake if Iran will award it the mobile deal.Turkey's ...\n",
       "7    b\"The plan is likely to give creditors of Parmalat Finanziaria shares worth about 5.7% of the debts they are owed.Creditors of Parmalat, the main operating company, are likely to see the percentag...\n",
       "8    b'Mr Sullivan, 42, has already pleaded guilty to fraud and will be sentenced following Mr Ebbers\\' trial, where he is appearing as a prosecution witness.Mr Sullivan claims that Mr Ebbers refused t...\n",
       "9    b'Mr Ebbers relationship to Mr Sullivan is key to the case surrounding financial corruption that led to the collapse of the firm in 2002 following the discovery of an $11bn accounting fraud.During...\n",
       "Name: Summary, dtype: object"
      ]
     },
<<<<<<< HEAD
     "execution_count": 16,
=======
     "execution_count": 27,
>>>>>>> aa5e4dc2a62387195106b2b522dcd74eeda03dca
     "metadata": {},
     "output_type": "execute_result"
    }
   ],
   "source": [
    "data['Summary'][:10]"
   ]
  },
  {
   "cell_type": "code",
<<<<<<< HEAD
   "execution_count": 17,
=======
   "execution_count": 28,
>>>>>>> aa5e4dc2a62387195106b2b522dcd74eeda03dca
   "metadata": {},
   "outputs": [],
   "source": [
    "def summary_cleaner(text):\n",
    "    newString = text.decode(\"utf-8\")\n",
    "    newString = re.sub('\"','', newString)\n",
    "    newString = ' '.join([contraction_mapping[t] if t in contraction_mapping else t for t in newString.split(\" \")])    \n",
    "    newString = re.sub(r\"'s\\b\",\"\",newString)\n",
    "    newString = re.sub(\"[^a-zA-Z]\", \" \", newString)\n",
    "    newString = newString.lower()\n",
    "    tokens = newString.split()\n",
    "    newString = ''\n",
    "    for i in tokens:\n",
    "        if len(i)>1:                                 \n",
    "            newString=newString + i + ' '  \n",
    "    return newString"
   ]
  },
  {
   "cell_type": "code",
<<<<<<< HEAD
   "execution_count": 18,
=======
   "execution_count": 29,
>>>>>>> aa5e4dc2a62387195106b2b522dcd74eeda03dca
   "metadata": {},
   "outputs": [],
   "source": [
    "cleaned_summary = []\n",
    "for t in data['Summary']:\n",
    "    cleaned_summary.append(summary_cleaner(t))\n",
    "\n",
    "data['cleaned_text']=cleaned_text\n",
    "data['cleaned_summary']=cleaned_summary\n",
    "\n",
    "data['cleaned_summary'].replace('', np.nan, inplace=True)\n",
    "data.dropna(axis=0,inplace=True)\n",
    "\n",
    "data['cleaned_summary'] = data['cleaned_summary'].apply(lambda x: '_START_ ' + x + ' _END_')"
   ]
  },
  {
   "cell_type": "code",
<<<<<<< HEAD
   "execution_count": 19,
=======
   "execution_count": 30,
>>>>>>> aa5e4dc2a62387195106b2b522dcd74eeda03dca
   "metadata": {},
   "outputs": [
    {
     "data": {
      "text/html": [
       "<div>\n",
       "<style scoped>\n",
       "    .dataframe tbody tr th:only-of-type {\n",
       "        vertical-align: middle;\n",
       "    }\n",
       "\n",
       "    .dataframe tbody tr th {\n",
       "        vertical-align: top;\n",
       "    }\n",
       "\n",
       "    .dataframe thead th {\n",
       "        text-align: right;\n",
       "    }\n",
       "</style>\n",
       "<table border=\"1\" class=\"dataframe\">\n",
       "  <thead>\n",
       "    <tr style=\"text-align: right;\">\n",
       "      <th></th>\n",
       "      <th>Text</th>\n",
       "      <th>Summary</th>\n",
       "      <th>cleaned_text</th>\n",
       "      <th>cleaned_summary</th>\n",
       "    </tr>\n",
       "  </thead>\n",
       "  <tbody>\n",
       "    <tr>\n",
       "      <th>0</th>\n",
       "      <td>b'UK economy facing \\'major risks\\'\\n\\nThe UK manufacturing sector will continue to face \"serious challenges\" over the next two years, the British Chamber of Commerce (BCC) has said.\\n\\nThe group\\...</td>\n",
       "      <td>b'\"Despite some positive news for the export sector, there are worrying signs for manufacturing,\" the BCC said.The BCC found confidence increased in the quarter across both the manufacturing and s...</td>\n",
       "      <td>economy facing major risks manufacturing sector continue face serious challenges next two years british chamber commerce said group quarterly survey companies found exports picked last three month...</td>\n",
       "      <td>_START_ despite some positive news for the export sector there are worrying signs for manufacturing the bcc said the bcc found confidence increased in the quarter across both the manufacturing and...</td>\n",
       "    </tr>\n",
       "    <tr>\n",
       "      <th>1</th>\n",
       "      <td>b'Aids and climate top Davos agenda\\n\\nClimate change and the fight against Aids are leading the list of concerns for the first day of the World Economic Forum in the Swiss resort of Davos.\\n\\nSom...</td>\n",
       "      <td>b'At the same time, about 100,000 people are expected to converge on the Brazilian resort of Porto Alegre for the World Social Forum - the so-called \"anti-Davos\" for campaigners against globalisat...</td>\n",
       "      <td>aids climate top davos agenda climate change fight aids leading list concerns first day world economic forum swiss resort davos business political leaders around globe listen prime minister tony b...</td>\n",
       "      <td>_START_ at the same time about people are expected to converge on the brazilian resort of porto alegre for the world social forum the so called anti davos for campaigners against globalisation for...</td>\n",
       "    </tr>\n",
       "    <tr>\n",
       "      <th>2</th>\n",
       "      <td>b'Asian quake hits European shares\\n\\nShares in Europe\\'s leading reinsurers and travel firms have fallen as the scale of the damage wrought by tsunamis across south Asia has become apparent.\\n\\nM...</td>\n",
       "      <td>b\"The unfolding scale of the disaster in south Asia had little immediate impact on US shares, however.But the disaster has little impact on stock markets in the US and Asia.Shares in Munich Re and...</td>\n",
       "      <td>asian quake hits european shares shares europe leading reinsurers travel firms fallen scale damage wrought tsunamis across south asia become apparent people killed following massive underwater ear...</td>\n",
       "      <td>_START_ the unfolding scale of the disaster in south asia had little immediate impact on us shares however but the disaster has little impact on stock markets in the us and asia shares in munich r...</td>\n",
       "    </tr>\n",
       "    <tr>\n",
       "      <th>3</th>\n",
       "      <td>b'India power shares jump on debut\\n\\nShares in India\\'s largest power producer, National Thermal Power Corp (NTPC) have risen 13% on their stock market debut.\\n\\nThe government\\'s partial sell-of...</td>\n",
       "      <td>b'Shares in India\\'s largest power producer, National Thermal Power Corp (NTPC) have risen 13% on their stock market debut.\"Power needs in India are set to rise and NTPC will benefit from that.\"NT...</td>\n",
       "      <td>india power shares jump debut shares india largest power producer national thermal power corp risen stock market debut government partial sell ntpc part controversial programme privatise state run...</td>\n",
       "      <td>_START_ shares in india largest power producer national thermal power corp ntpc have risen on their stock market debut power needs in india are set to rise and ntpc will benefit from that ntpc has...</td>\n",
       "    </tr>\n",
       "    <tr>\n",
       "      <th>4</th>\n",
       "      <td>b\"Lacroix label bought by US firm\\n\\nLuxury goods group LVMH has sold its loss-making Christian Lacroix clothing label to a US investment group.\\n\\nThe Paris-based firm has been shedding non-core ...</td>\n",
       "      <td>b\"LVMH said the French designer's haute couture and ready-to-wear labels had been purchased by the Falic Group for an unspecified sum.Luxury goods group LVMH has sold its loss-making Christian Lac...</td>\n",
       "      <td>lacroix label bought firm luxury goods group lvmh sold loss making christian lacroix clothing label investment group paris based firm shedding non core businesses focusing profitable brands includ...</td>\n",
       "      <td>_START_ lvmh said the french designer haute couture and ready to wear labels had been purchased by the falic group for an unspecified sum luxury goods group lvmh has sold its loss making christian...</td>\n",
       "    </tr>\n",
       "  </tbody>\n",
       "</table>\n",
       "</div>"
      ],
      "text/plain": [
       "                                                                                                                                                                                                      Text  \\\n",
       "0  b'UK economy facing \\'major risks\\'\\n\\nThe UK manufacturing sector will continue to face \"serious challenges\" over the next two years, the British Chamber of Commerce (BCC) has said.\\n\\nThe group\\...   \n",
       "1  b'Aids and climate top Davos agenda\\n\\nClimate change and the fight against Aids are leading the list of concerns for the first day of the World Economic Forum in the Swiss resort of Davos.\\n\\nSom...   \n",
       "2  b'Asian quake hits European shares\\n\\nShares in Europe\\'s leading reinsurers and travel firms have fallen as the scale of the damage wrought by tsunamis across south Asia has become apparent.\\n\\nM...   \n",
       "3  b'India power shares jump on debut\\n\\nShares in India\\'s largest power producer, National Thermal Power Corp (NTPC) have risen 13% on their stock market debut.\\n\\nThe government\\'s partial sell-of...   \n",
       "4  b\"Lacroix label bought by US firm\\n\\nLuxury goods group LVMH has sold its loss-making Christian Lacroix clothing label to a US investment group.\\n\\nThe Paris-based firm has been shedding non-core ...   \n",
       "\n",
       "                                                                                                                                                                                                   Summary  \\\n",
       "0  b'\"Despite some positive news for the export sector, there are worrying signs for manufacturing,\" the BCC said.The BCC found confidence increased in the quarter across both the manufacturing and s...   \n",
       "1  b'At the same time, about 100,000 people are expected to converge on the Brazilian resort of Porto Alegre for the World Social Forum - the so-called \"anti-Davos\" for campaigners against globalisat...   \n",
       "2  b\"The unfolding scale of the disaster in south Asia had little immediate impact on US shares, however.But the disaster has little impact on stock markets in the US and Asia.Shares in Munich Re and...   \n",
       "3  b'Shares in India\\'s largest power producer, National Thermal Power Corp (NTPC) have risen 13% on their stock market debut.\"Power needs in India are set to rise and NTPC will benefit from that.\"NT...   \n",
       "4  b\"LVMH said the French designer's haute couture and ready-to-wear labels had been purchased by the Falic Group for an unspecified sum.Luxury goods group LVMH has sold its loss-making Christian Lac...   \n",
       "\n",
       "                                                                                                                                                                                              cleaned_text  \\\n",
       "0  economy facing major risks manufacturing sector continue face serious challenges next two years british chamber commerce said group quarterly survey companies found exports picked last three month...   \n",
       "1  aids climate top davos agenda climate change fight aids leading list concerns first day world economic forum swiss resort davos business political leaders around globe listen prime minister tony b...   \n",
       "2  asian quake hits european shares shares europe leading reinsurers travel firms fallen scale damage wrought tsunamis across south asia become apparent people killed following massive underwater ear...   \n",
       "3  india power shares jump debut shares india largest power producer national thermal power corp risen stock market debut government partial sell ntpc part controversial programme privatise state run...   \n",
       "4  lacroix label bought firm luxury goods group lvmh sold loss making christian lacroix clothing label investment group paris based firm shedding non core businesses focusing profitable brands includ...   \n",
       "\n",
       "                                                                                                                                                                                           cleaned_summary  \n",
       "0  _START_ despite some positive news for the export sector there are worrying signs for manufacturing the bcc said the bcc found confidence increased in the quarter across both the manufacturing and...  \n",
       "1  _START_ at the same time about people are expected to converge on the brazilian resort of porto alegre for the world social forum the so called anti davos for campaigners against globalisation for...  \n",
       "2  _START_ the unfolding scale of the disaster in south asia had little immediate impact on us shares however but the disaster has little impact on stock markets in the us and asia shares in munich r...  \n",
       "3  _START_ shares in india largest power producer national thermal power corp ntpc have risen on their stock market debut power needs in india are set to rise and ntpc will benefit from that ntpc has...  \n",
       "4  _START_ lvmh said the french designer haute couture and ready to wear labels had been purchased by the falic group for an unspecified sum luxury goods group lvmh has sold its loss making christian...  "
      ]
     },
<<<<<<< HEAD
     "execution_count": 19,
=======
     "execution_count": 30,
>>>>>>> aa5e4dc2a62387195106b2b522dcd74eeda03dca
     "metadata": {},
     "output_type": "execute_result"
    }
   ],
   "source": [
    "data.head()"
   ]
  },
  {
   "cell_type": "markdown",
   "metadata": {},
   "source": [
    "### Distribution of the sequences"
   ]
  },
  {
   "cell_type": "code",
<<<<<<< HEAD
   "execution_count": 20,
=======
   "execution_count": 31,
>>>>>>> aa5e4dc2a62387195106b2b522dcd74eeda03dca
   "metadata": {},
   "outputs": [
    {
     "data": {
<<<<<<< HEAD
      "image/png": "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\n",
=======
      "image/png": "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\n",
>>>>>>> aa5e4dc2a62387195106b2b522dcd74eeda03dca
      "text/plain": [
       "<Figure size 1440x720 with 4 Axes>"
      ]
     },
     "metadata": {
      "needs_background": "light"
     },
     "output_type": "display_data"
    }
   ],
   "source": [
    "text_word_count = []\n",
    "summary_word_count = []\n",
    "\n",
    "c_text_word_count = []\n",
    "c_summary_word_count = []\n",
    "\n",
    "# populate the lists with sentence lengths\n",
    "for i in data['Text']:\n",
    "      text_word_count.append(len(i.split()))\n",
    "\n",
    "for i in data['Summary']:\n",
    "      summary_word_count.append(len(i.split()))\n",
    "        \n",
    "for i in data['cleaned_text']:\n",
    "      c_text_word_count.append(len(i.split()))\n",
    "\n",
    "for i in data['cleaned_summary']:\n",
    "      c_summary_word_count.append(len(i.split()))\n",
    "\n",
    "length_df = pd.DataFrame({'text':text_word_count, 'summary':summary_word_count,\n",
    "                          'cleaned text': c_text_word_count, 'cleaned summary': c_summary_word_count})\n",
    "\n",
    "length_df.hist(bins = 100, figsize=(20,10))\n",
    "\n",
    "plt.show()"
   ]
  },
  {
   "cell_type": "code",
<<<<<<< HEAD
   "execution_count": 21,
   "metadata": {},
   "outputs": [
    {
     "data": {
      "text/plain": [
       "144.0"
      ]
     },
     "execution_count": 21,
     "metadata": {},
     "output_type": "execute_result"
    }
   ],
   "source": [
    "max_len_sum = [len(data.split()) for data in data['cleaned_summary']]\n",
    "np.median(max_len_sum)"
   ]
  },
  {
   "cell_type": "code",
   "execution_count": 22,
   "metadata": {},
   "outputs": [
    {
     "data": {
      "text/plain": [
       "185.0"
      ]
     },
     "execution_count": 22,
     "metadata": {},
     "output_type": "execute_result"
    }
   ],
   "source": [
    "max_len_sum = [len(data.split()) for data in data['cleaned_text']]\n",
    "np.median(max_len_sum)"
   ]
  },
  {
   "cell_type": "code",
   "execution_count": 23,
=======
   "execution_count": 32,
>>>>>>> aa5e4dc2a62387195106b2b522dcd74eeda03dca
   "metadata": {},
   "outputs": [],
   "source": [
    "max_len_text = 300 \n",
    "max_len_summary = 100"
   ]
  },
  {
   "cell_type": "markdown",
   "metadata": {},
   "source": [
    "### Preparing Tokenizer"
   ]
  },
  {
   "cell_type": "code",
<<<<<<< HEAD
   "execution_count": 24,
=======
   "execution_count": 33,
>>>>>>> aa5e4dc2a62387195106b2b522dcd74eeda03dca
   "metadata": {},
   "outputs": [
    {
     "name": "stdout",
     "output_type": "stream",
     "text": [
      "(45,)\n",
      "(5,)\n",
      "(45,)\n",
      "(5,)\n"
     ]
    }
   ],
   "source": [
    "X_train , X_test , y_train , y_test = train_test_split(data['cleaned_text'][:50], data['cleaned_summary'][:50], test_size=0.1, random_state=0, shuffle=True)\n",
    "\n",
    "print(X_train.shape)\n",
    "print(X_test.shape)\n",
    "print(y_train.shape)\n",
    "print(y_test.shape)"
   ]
  },
  {
   "cell_type": "markdown",
   "metadata": {},
   "source": [
    "#### Text Tokenizer"
   ]
  },
  {
   "cell_type": "code",
<<<<<<< HEAD
   "execution_count": 25,
=======
   "execution_count": 34,
>>>>>>> aa5e4dc2a62387195106b2b522dcd74eeda03dca
   "metadata": {},
   "outputs": [],
   "source": [
    "#prepare a tokenizer for reviews on training data\n",
    "x_tokenizer = Tokenizer()\n",
    "x_tokenizer.fit_on_texts(list(X_train))\n",
    "\n",
    "#convert text sequences into integer sequences\n",
    "X_train = x_tokenizer.texts_to_sequences(X_train) \n",
    "X_test = x_tokenizer.texts_to_sequences(X_test)\n",
    "\n",
    "#padding zero upto maximum length\n",
    "X_train = pad_sequences(X_train,  maxlen=max_len_text, padding='post') \n",
    "X_test = pad_sequences(X_test, maxlen=max_len_text, padding='post')\n",
    "\n",
    "x_voc_size = len(x_tokenizer.word_index) +1"
   ]
  },
  {
   "cell_type": "markdown",
   "metadata": {},
   "source": [
    "#### Summary Tokenizer"
   ]
  },
  {
   "cell_type": "code",
<<<<<<< HEAD
   "execution_count": 26,
=======
   "execution_count": 35,
>>>>>>> aa5e4dc2a62387195106b2b522dcd74eeda03dca
   "metadata": {},
   "outputs": [],
   "source": [
    "#preparing a tokenizer for summary on training data \n",
    "y_tokenizer = Tokenizer()\n",
    "y_tokenizer.fit_on_texts(list(y_train))\n",
    "\n",
    "#convert summary sequences into integer sequences\n",
    "y_train = y_tokenizer.texts_to_sequences(y_train) \n",
    "y_test = y_tokenizer.texts_to_sequences(y_test) \n",
    "\n",
    "#padding zero upto maximum length\n",
    "y_train = pad_sequences(y_train, maxlen=max_len_summary, padding='post')\n",
    "y_test = pad_sequences(y_test, maxlen=max_len_summary, padding='post')\n",
    "\n",
    "y_voc_size = len(y_tokenizer.word_index) +1"
   ]
  },
  {
   "cell_type": "code",
<<<<<<< HEAD
   "execution_count": 27,
=======
   "execution_count": 36,
>>>>>>> aa5e4dc2a62387195106b2b522dcd74eeda03dca
   "metadata": {},
   "outputs": [
    {
     "name": "stdout",
     "output_type": "stream",
     "text": [
      "(45, 300)\n",
      "(5, 300)\n",
      "(45, 100)\n",
      "(5, 100)\n"
     ]
    }
   ],
   "source": [
    "print(X_train.shape)\n",
    "print(X_test.shape)\n",
    "print(y_train.shape)\n",
    "print(y_test.shape)"
   ]
  },
  {
   "cell_type": "markdown",
   "metadata": {},
   "source": [
    "# 4.0 Model"
   ]
  },
  {
   "cell_type": "code",
<<<<<<< HEAD
   "execution_count": 28,
=======
   "execution_count": 37,
>>>>>>> aa5e4dc2a62387195106b2b522dcd74eeda03dca
   "metadata": {},
   "outputs": [],
   "source": [
    "K.clear_session() \n",
    "latent_dim = 500 \n",
    "\n",
    "# Encoder \n",
    "encoder_inputs = Input(shape=(max_len_text,)) \n",
    "enc_emb = Embedding(x_voc_size, latent_dim, trainable=True)(encoder_inputs) \n",
    "\n",
    "#LSTM 1 \n",
    "encoder_lstm1 = LSTM(latent_dim, return_sequences=True, return_state=True) \n",
    "encoder_output1, state_h1, state_c1 = encoder_lstm1(enc_emb) \n",
    "\n",
    "#LSTM 2 \n",
    "encoder_lstm2 = LSTM(latent_dim, return_sequences=True, return_state=True) \n",
    "encoder_output2, state_h2, state_c2 = encoder_lstm2(encoder_output1) \n",
    "\n",
    "#LSTM 3 \n",
    "encoder_lstm3=LSTM(latent_dim, return_sequences=True, return_state=True) \n",
    "encoder_outputs, state_h, state_c= encoder_lstm3(encoder_output2) \n",
    "\n",
    "# Set up the decoder. \n",
    "decoder_inputs = Input(shape=(None,)) \n",
    "dec_emb_layer = Embedding(y_voc_size, latent_dim, trainable=True) \n",
    "dec_emb = dec_emb_layer(decoder_inputs) \n",
    "\n",
    "#LSTM using encoder_states as initial state\n",
    "decoder_lstm = LSTM(latent_dim, return_sequences=True, return_state=True) \n",
    "decoder_outputs, decoder_fwd_state, decoder_back_state = decoder_lstm(dec_emb, initial_state=[state_h, state_c]) \n",
    "\n",
    "#Attention Layer\n",
    "attn_layer = AttentionLayer(name='attention_layer') \n",
    "attn_out, attn_states = attn_layer([encoder_outputs, decoder_outputs]) \n",
    "\n",
    "# Concat attention output and decoder LSTM output \n",
    "decoder_concat_input = Concatenate(axis=-1, name='concat_layer')([decoder_outputs, attn_out])\n",
    "\n",
    "#Dense layer\n",
    "decoder_dense = TimeDistributed(Dense(y_voc_size, activation='softmax')) \n",
    "decoder_outputs = decoder_dense(decoder_concat_input) \n",
    "\n",
    "# Define the model\n",
    "model = Model([encoder_inputs, decoder_inputs], decoder_outputs) "
   ]
  },
  {
   "cell_type": "code",
<<<<<<< HEAD
   "execution_count": 29,
=======
   "execution_count": 38,
>>>>>>> aa5e4dc2a62387195106b2b522dcd74eeda03dca
   "metadata": {},
   "outputs": [
    {
     "name": "stdout",
     "output_type": "stream",
     "text": [
      "Model: \"model\"\n",
      "__________________________________________________________________________________________________\n",
      "Layer (type)                    Output Shape         Param #     Connected to                     \n",
      "==================================================================================================\n",
      "input_1 (InputLayer)            [(None, 300)]        0                                            \n",
      "__________________________________________________________________________________________________\n",
      "embedding (Embedding)           (None, 300, 500)     1495500     input_1[0][0]                    \n",
      "__________________________________________________________________________________________________\n",
      "lstm (LSTM)                     [(None, 300, 500), ( 2002000     embedding[0][0]                  \n",
      "__________________________________________________________________________________________________\n",
      "input_2 (InputLayer)            [(None, None)]       0                                            \n",
      "__________________________________________________________________________________________________\n",
      "lstm_1 (LSTM)                   [(None, 300, 500), ( 2002000     lstm[0][0]                       \n",
      "__________________________________________________________________________________________________\n",
      "embedding_1 (Embedding)         (None, None, 500)    904000      input_2[0][0]                    \n",
      "__________________________________________________________________________________________________\n",
      "lstm_2 (LSTM)                   [(None, 300, 500), ( 2002000     lstm_1[0][0]                     \n",
      "__________________________________________________________________________________________________\n",
      "lstm_3 (LSTM)                   [(None, None, 500),  2002000     embedding_1[0][0]                \n",
      "                                                                 lstm_2[0][1]                     \n",
      "                                                                 lstm_2[0][2]                     \n",
      "__________________________________________________________________________________________________\n",
      "attention_layer (AttentionLayer ((None, None, 500),  500500      lstm_2[0][0]                     \n",
      "                                                                 lstm_3[0][0]                     \n",
      "__________________________________________________________________________________________________\n",
      "concat_layer (Concatenate)      (None, None, 1000)   0           lstm_3[0][0]                     \n",
      "                                                                 attention_layer[0][0]            \n",
      "__________________________________________________________________________________________________\n",
      "time_distributed (TimeDistribut (None, None, 1808)   1809808     concat_layer[0][0]               \n",
      "==================================================================================================\n",
      "Total params: 12,717,808\n",
      "Trainable params: 12,717,808\n",
      "Non-trainable params: 0\n",
      "__________________________________________________________________________________________________\n"
     ]
    }
   ],
   "source": [
    "model.summary()"
   ]
  },
  {
   "cell_type": "markdown",
   "metadata": {},
   "source": [
    "#### Model optimization"
   ]
  },
  {
   "cell_type": "code",
<<<<<<< HEAD
   "execution_count": 30,
=======
   "execution_count": 39,
>>>>>>> aa5e4dc2a62387195106b2b522dcd74eeda03dca
   "metadata": {},
   "outputs": [],
   "source": [
    "model.compile(optimizer='rmsprop', loss='sparse_categorical_crossentropy')\n",
    "\n",
    "es = EarlyStopping(monitor='val_loss', mode='min', verbose=1)"
   ]
  },
  {
   "cell_type": "markdown",
   "metadata": {},
   "source": [
    "#### Model fitting"
   ]
  },
  {
   "cell_type": "code",
<<<<<<< HEAD
   "execution_count": 31,
=======
   "execution_count": 41,
>>>>>>> aa5e4dc2a62387195106b2b522dcd74eeda03dca
   "metadata": {},
   "outputs": [
    {
     "name": "stdout",
     "output_type": "stream",
     "text": [
      "Train Model...\n",
      "Train on 45 samples, validate on 5 samples\n",
      "Epoch 1/3\n",
      "45/45 [==============================] - 32s 719ms/sample - loss: 7.4996 - val_loss: 7.2413\n",
      "Epoch 2/3\n",
      "45/45 [==============================] - 26s 586ms/sample - loss: 7.3941 - val_loss: 6.6041\n",
      "Epoch 3/3\n",
      "45/45 [==============================] - 26s 568ms/sample - loss: 7.7961 - val_loss: 7.4298\n",
      "Epoch 00003: early stopping\n",
      "Model saved\n"
     ]
    }
   ],
   "source": [
    "try:\n",
    "    model = load_model('model.h5', custom_objects={'AttentionLayer': AttentionLayer})\n",
    "    print(\"Model successfully loaded.\")\n",
    "except:\n",
    "    print(\"Train Model...\")\n",
    "    history = model.fit([X_train, y_train[:,:-1]], \n",
    "                    y_train.reshape(y_train.shape[0], y_train.shape[1], 1)[:,1:],\n",
    "                    epochs=3,\n",
    "                    callbacks=[es],\n",
    "                    batch_size=256, \n",
    "                    validation_data=([X_test,y_test[:,:-1]],\n",
    "                                     y_test.reshape(y_test.shape[0],y_test.shape[1], 1)[:,1:])\n",
    "                   )\n",
    "    model.save('model.h5')\n",
    "    print(\"Model saved\")"
   ]
  },
  {
   "cell_type": "markdown",
   "metadata": {},
   "source": [
    "# 5.0 Evaluation"
   ]
  },
  {
   "cell_type": "code",
<<<<<<< HEAD
   "execution_count": 32,
=======
   "execution_count": 42,
>>>>>>> aa5e4dc2a62387195106b2b522dcd74eeda03dca
   "metadata": {},
   "outputs": [
    {
     "data": {
<<<<<<< HEAD
      "image/png": "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\n",
=======
      "image/png": "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\n",
>>>>>>> aa5e4dc2a62387195106b2b522dcd74eeda03dca
      "text/plain": [
       "<Figure size 432x288 with 1 Axes>"
      ]
     },
     "metadata": {
      "needs_background": "light"
     },
     "output_type": "display_data"
    }
   ],
   "source": [
    "plt.plot(history.history['loss'], label='train') \n",
    "plt.plot(history.history['val_loss'], label='test') \n",
    "plt.legend()\n",
    "plt.show()"
   ]
  },
  {
   "cell_type": "code",
<<<<<<< HEAD
   "execution_count": 33,
=======
   "execution_count": 43,
>>>>>>> aa5e4dc2a62387195106b2b522dcd74eeda03dca
   "metadata": {},
   "outputs": [],
   "source": [
    "reverse_target_word_index = y_tokenizer.index_word \n",
    "reverse_source_word_index = x_tokenizer.index_word \n",
    "target_word_index = y_tokenizer.word_index"
   ]
  },
  {
   "cell_type": "markdown",
   "metadata": {},
   "source": [
    "#### Inference"
   ]
  },
  {
   "cell_type": "code",
<<<<<<< HEAD
   "execution_count": 34,
=======
   "execution_count": 44,
>>>>>>> aa5e4dc2a62387195106b2b522dcd74eeda03dca
   "metadata": {},
   "outputs": [],
   "source": [
    "# encoder inference\n",
    "encoder_model = Model(inputs=encoder_inputs, outputs=[encoder_outputs, state_h, state_c])\n",
    "\n",
    "# decoder inference\n",
    "# Below tensors will hold the states of the previous time step\n",
    "decoder_state_input_h = Input(shape=(latent_dim,))\n",
    "decoder_state_input_c = Input(shape=(latent_dim,))\n",
    "decoder_hidden_state_input = Input(shape=(max_len_text,latent_dim))\n",
    "\n",
    "# Get the embeddings of the decoder sequence\n",
    "dec_emb2= dec_emb_layer(decoder_inputs)\n",
    "\n",
    "# To predict the next word in the sequence, set the initial states to the states from the previous time step\n",
    "decoder_outputs2, state_h2, state_c2 = decoder_lstm(dec_emb2, initial_state=[decoder_state_input_h, decoder_state_input_c])\n",
    "\n",
    "#attention inference\n",
    "attn_out_inf, attn_states_inf = attn_layer([decoder_hidden_state_input, decoder_outputs2])\n",
    "decoder_inf_concat = Concatenate(axis=-1, name='concat')([decoder_outputs2, attn_out_inf])\n",
    "\n",
    "# A dense softmax layer to generate prob dist. over the target vocabulary\n",
    "decoder_outputs2 = decoder_dense(decoder_inf_concat)\n",
    "\n",
    "# Final decoder model\n",
    "decoder_model = Model(\n",
    "    [decoder_inputs] + [decoder_hidden_state_input, decoder_state_input_h, decoder_state_input_c],\n",
    "    [decoder_outputs2] + [state_h2, state_c2]\n",
    ")"
   ]
  },
  {
   "cell_type": "markdown",
   "metadata": {},
   "source": [
    "#### Inference Process"
   ]
  },
  {
   "cell_type": "code",
<<<<<<< HEAD
   "execution_count": 35,
=======
   "execution_count": 45,
   "metadata": {},
   "outputs": [
    {
     "data": {
      "text/plain": [
       "1"
      ]
     },
     "execution_count": 45,
     "metadata": {},
     "output_type": "execute_result"
    }
   ],
   "source": [
    "target_word_index['start']"
   ]
  },
  {
   "cell_type": "code",
   "execution_count": 46,
   "metadata": {},
   "outputs": [
    {
     "data": {
      "text/plain": [
       "array([[   3,    8,  154,    8,  996,  917, 1173,  169,  154,    2,  146,\n",
       "         431,  154,    8, 5136,  517,    0,    0,    0,    0,    0,    0,\n",
       "           0,    0,    0,    0,    0,    0,    0,    0,    0,    0,    0,\n",
       "           0,    0,    0,    0,    0,    0,    0,    0,    0,    0,    0,\n",
       "           0,    0,    0,    0,    0,    0,    0,    0,    0,    0,    0,\n",
       "           0,    0,    0,    0,    0,    0,    0,    0,    0,    0,    0,\n",
       "           0,    0,    0,    0,    0,    0,    0,    0,    0,    0,    0,\n",
       "           0,    0,    0]], dtype=int32)"
      ]
     },
     "execution_count": 46,
     "metadata": {},
     "output_type": "execute_result"
    }
   ],
   "source": [
    "X_test[0].reshape(1, -1)"
   ]
  },
  {
   "cell_type": "code",
   "execution_count": 47,
   "metadata": {},
   "outputs": [
    {
     "name": "stdout",
     "output_type": "stream",
     "text": [
      "(1, 80, 500)\n",
      "(1, 500)\n",
      "(1, 500)\n"
     ]
    }
   ],
   "source": [
    "for i in range(0, 3):\n",
    "    print(encoder_model.predict(X_test[0].reshape(1, -1))[i].shape)"
   ]
  },
  {
   "cell_type": "code",
   "execution_count": 48,
   "metadata": {},
   "outputs": [],
   "source": [
    "e_out, e_h, e_c = encoder_model.predict(X_test[0].reshape(1, -1))"
   ]
  },
  {
   "cell_type": "code",
   "execution_count": 49,
   "metadata": {},
   "outputs": [
    {
     "data": {
      "text/plain": [
       "array([[1.]])"
      ]
     },
     "execution_count": 49,
     "metadata": {},
     "output_type": "execute_result"
    }
   ],
   "source": [
    "target_seq = np.zeros((1,1))\n",
    "\n",
    "target_seq[0, 0] = target_word_index['start']\n",
    "\n",
    "target_seq"
   ]
  },
  {
   "cell_type": "code",
   "execution_count": 50,
   "metadata": {},
   "outputs": [
    {
     "name": "stdout",
     "output_type": "stream",
     "text": [
      "(1, 1, 4247)\n",
      "(1, 500)\n",
      "(1, 500)\n"
     ]
    }
   ],
   "source": [
    "for i in range(0, 3):\n",
    "    print(decoder_model.predict([target_seq] + [e_out, e_h, e_c])[i].shape)"
   ]
  },
  {
   "cell_type": "code",
   "execution_count": 51,
   "metadata": {},
   "outputs": [],
   "source": [
    "out, h, c = decoder_model.predict([target_seq] + [e_out, e_h, e_c])"
   ]
  },
  {
   "cell_type": "code",
   "execution_count": 52,
   "metadata": {},
   "outputs": [
    {
     "data": {
      "text/plain": [
       "4246"
      ]
     },
     "execution_count": 52,
     "metadata": {},
     "output_type": "execute_result"
    }
   ],
   "source": [
    "len(y_tokenizer.word_index)"
   ]
  },
  {
   "cell_type": "code",
   "execution_count": 53,
   "metadata": {},
   "outputs": [
    {
     "data": {
      "text/plain": [
       "3"
      ]
     },
     "execution_count": 53,
     "metadata": {},
     "output_type": "execute_result"
    }
   ],
   "source": [
    "np.argmax(out[0, -1, :])"
   ]
  },
  {
   "cell_type": "code",
   "execution_count": 54,
   "metadata": {},
   "outputs": [
    {
     "data": {
      "text/plain": [
       "'convenient'"
      ]
     },
     "execution_count": 54,
     "metadata": {},
     "output_type": "execute_result"
    }
   ],
   "source": [
    "y_tokenizer.index_word[193]"
   ]
  },
  {
   "cell_type": "code",
   "execution_count": 55,
>>>>>>> aa5e4dc2a62387195106b2b522dcd74eeda03dca
   "metadata": {},
   "outputs": [],
   "source": [
    "def decode_sequence(input_seq):\n",
    "    # Encode the input as state vectors.\n",
    "    e_out, e_h, e_c = encoder_model.predict(input_seq)\n",
    "\n",
    "    # Generate empty target sequence of length 1.\n",
    "    target_seq = np.zeros((1,1))\n",
    "\n",
    "    # Chose the 'start' word as the first word of the target sequence\n",
    "    target_seq[0, 0] = target_word_index['start']\n",
    "\n",
    "    stop_condition = False\n",
    "    decoded_sentence = ''\n",
    "    \n",
    "    while not stop_condition:\n",
    "        \n",
    "        output_tokens, h, c = decoder_model.predict([target_seq] + [e_out, e_h, e_c])\n",
    "\n",
    "        # Sample a token\n",
    "        sampled_token_index = np.argmax(output_tokens[0, -1, :])\n",
    "        sampled_token = reverse_target_word_index[sampled_token_index]\n",
    "\n",
    "        if(sampled_token != 'end'):\n",
    "            decoded_sentence += ' ' + sampled_token\n",
    "\n",
    "            # Exit condition: either hit max length or find stop word.\n",
    "        if (sampled_token == 'end' or len(decoded_sentence.split()) >= (max_len_summary-1)):\n",
    "            stop_condition = True\n",
    "\n",
    "        # Update the target sequence (of length 1).\n",
    "        target_seq = np.zeros((1,1))\n",
    "        target_seq[0, 0] = sampled_token_index\n",
    "\n",
    "        # Update internal states\n",
    "        e_h, e_c = h, c\n",
    "\n",
    "    return decoded_sentence"
   ]
  },
  {
   "cell_type": "code",
<<<<<<< HEAD
   "execution_count": 36,
=======
   "execution_count": 56,
>>>>>>> aa5e4dc2a62387195106b2b522dcd74eeda03dca
   "metadata": {},
   "outputs": [],
   "source": [
    "def seq2summary(input_seq):\n",
    "    newString = ''\n",
    "    \n",
    "    for i in input_seq:\n",
    "        if((i!=0 and i!= target_word_index['start']) and i != target_word_index['end']):\n",
    "            newString = newString + reverse_target_word_index[i] + ' '\n",
    "            \n",
    "    return newString\n",
    "\n",
    "def seq2text(input_seq):\n",
    "    newString = ''\n",
    "    \n",
    "    for i in input_seq:\n",
    "        if(i != 0):\n",
    "            newString = newString + reverse_source_word_index[i] + ' '\n",
    "            \n",
    "    return newString"
   ]
  },
  {
   "cell_type": "code",
<<<<<<< HEAD
   "execution_count": 37,
=======
   "execution_count": 57,
>>>>>>> aa5e4dc2a62387195106b2b522dcd74eeda03dca
   "metadata": {},
   "outputs": [
    {
     "name": "stdout",
     "output_type": "stream",
     "text": [
<<<<<<< HEAD
      "Review: china top trader japan china become japan biggest trading partner according numbers japan finance ministry wednesday china japan trade compared ahead china came second change china growing economic japan imports exports china added highest figure japanese trade china since records began trade trade hurt one factors including month ban imports following discovery mad however economists predict china become even important japanese trading partner coming years tuesday figures showed china economy grew experts say overall growth picture remains strong analysts see two future growth china membership world trade organisation lower trade tariffs japan trade grew trillion half trillion trade december grew year ago trillion stronger expected exports \n",
=======
      "Review: good flavor coconut flavor subtle overpowering comparison another coconut coffee green mountain coconut flavor overdone opinion \n",
      "Original summary: good coffee \n",
      "Predicted summary:  great coffee\n",
      "\n",
      "\n",
      "Review: high amount protein specifically mentioned taurine label cats need decided use temporarily cats absolutely adore since found cat specific flavor company probably use little variety cats coats look feel shiny healthy definitely vomit less fed mainstream foods also mixed straight ground raw meat bone make sure getting plenty meat wild brushtail certainly seems agree protein source protein sources make sick brushtail wild grain fed thus plenty right nutrients also according company nuisance responsible way help brushtail devour animals live love \n",
      "Original summary: even cats love it \n",
      "Predicted summary:  soda but not bad\n",
      "\n",
      "\n",
      "Review: maybe miracle fruit work everyone little effect used started clear pallet let pill dissolve tongue etc tried classic first lime noticed barely quite pucker may without mberry slightly add sweet hint sour foods like vinegar vinegar chips guinness strawberries cheese etc many recommended fruits foods little impact minutes could notice change either people level effect much miracle berry effects group dynamics either way let \n",
      "Original summary: very slight effect \n",
      "Predicted summary:  tasty\n",
      "\n",
      "\n",
      "Review: first time ordered came melted amazon quick remedy situation sending another product great thank \n",
      "Original summary: \n",
      "Predicted summary:  the best\n",
      "\n",
      "\n",
      "Review: brought workers valentine day loved rave reviews really good would purchase plan purchase \n",
      "Original summary: would buy again \n",
      "Predicted summary:  great product\n",
      "\n",
      "\n",
      "Review: say love iced tea drink lot love convenience new individual serving size packets also big fan stash products rather stash products tried purchased case varieties way weak mixed ounces water bottle finally found needed dissolve packets small bit hot water first add packet sweetener adding rest water make palatable dissatisfied product stick brands market \n",
      "Original summary: way too weak for my tastes \n",
      "Predicted summary:  great tasting tea\n",
      "\n",
      "\n",
      "Review: since republic tea discontinued bing cherry vanilla tea looking replacement flavor tea different better smell rich like toasted vanilla cherry almost coffee smell quite like coffee tea incredible glad found best price \n",
      "Original summary: should be called tasty cherry \n",
      "Predicted summary:  great tea\n",
>>>>>>> aa5e4dc2a62387195106b2b522dcd74eeda03dca
      "\n",
      " Original summary: china for of japan trade in compared with for the us during japan trade grew to trillion with more than half the trillion for by its trade with the us it with bn in trade with the us china the us to become japan biggest partner in according to numbers by japan finance ministry on wednesday this is the highest figure for trade with china since records began in in the us was ahead with and china came second with \n",
      "\n",
<<<<<<< HEAD
      " Predicted summary:  couture couture couture couture couture couture couture couture couture couture couture couture couture couture couture couture couture couture couture couture couture couture couture couture couture couture couture couture couture couture couture couture ebay ebay ebay ebay ebay ebay ebay ebay ebay ebay ebay ebay ebay ebay ebay ebay ebay ebay ebay ebay ebay ebay ebay ebay ebay ebay ebay ebay ebay ebay ebay ebay ebay ebay ebay ebay ebay ebay ebay ebay ebay ebay ebay ebay ebay ebay ebay ebay ebay ebay ebay ebay ebay ebay ebay ebay ebay ebay ebay ebay ebay ebay ebay ebay ebay ebay ebay\n",
      "\n",
      "\n",
      "Review: investor london hotel sold group investor unit bank financial details deal includes nearby based property firm private bought along last year hotel investments include luxury george paris also substantial stakes four said planned invest including river views river work expected summer said \n",
=======
      "Review: add baked yet received ingredients perhaps read well ingredient list right guess simply expected alcohol vanilla beans maybe sugar product update use \n",
      "Original summary: am somewhat \n",
      "Predicted summary:  great product\n",
      "\n",
      "\n",
      "Review: addicting fantastic snack mix wonderful variety crackers blend flavors \n",
      "Original summary: wonderful blend of flavors \n",
      "Predicted summary:  great value\n",
>>>>>>> aa5e4dc2a62387195106b2b522dcd74eeda03dca
      "\n",
      " Original summary: he also has substantial stakes in which will the and in the and four said it planned to invest in of the including the river and with over the river london has been sold to group investor and unit of bank \n",
      "\n",
<<<<<<< HEAD
      " Predicted summary:  couture couture couture couture couture couture couture couture couture couture couture couture couture couture couture couture couture couture couture couture couture couture couture couture couture couture couture couture couture couture couture couture ebay ebay ebay ebay ebay ebay ebay ebay ebay ebay ebay ebay ebay ebay ebay ebay ebay ebay ebay ebay ebay ebay ebay ebay ebay ebay ebay ebay ebay ebay ebay ebay ebay ebay ebay ebay ebay ebay ebay ebay ebay ebay ebay ebay ebay ebay ebay ebay ebay ebay ebay ebay ebay ebay ebay ebay ebay ebay ebay ebay ebay ebay ebay ebay ebay ebay ebay\n",
=======
      "Review: finally gluten free pancake product pancakes bad taste like regular bisquick batter right heavy pancakes good price compared local grocers \n",
      "Original summary: finally \n",
      "Predicted summary:  tasty\n",
>>>>>>> aa5e4dc2a62387195106b2b522dcd74eeda03dca
      "\n",
      "\n"
     ]
    }
   ],
   "source": [
    "for i in range(2):\n",
    "    print(\"Review:\", seq2text(X_test[i]))\n",
    "    print(\"\\n Original summary:\", seq2summary(y_test[i]))\n",
    "    print(\"\\n Predicted summary:\", decode_sequence(X_test[i].reshape(1,max_len_text)))\n",
    "    print(\"\\n\")"
   ]
  },
  {
   "cell_type": "code",
   "execution_count": null,
   "metadata": {},
   "outputs": [],
   "source": []
  }
 ],
 "metadata": {
  "kernelspec": {
   "display_name": "PyTorch",
   "language": "python",
   "name": "py36-env"
  },
  "language_info": {
   "codemirror_mode": {
    "name": "ipython",
    "version": 3
   },
   "file_extension": ".py",
   "mimetype": "text/x-python",
   "name": "python",
   "nbconvert_exporter": "python",
   "pygments_lexer": "ipython3",
   "version": "3.7.6"
  }
 },
 "nbformat": 4,
 "nbformat_minor": 2
}
